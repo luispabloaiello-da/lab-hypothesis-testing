{
 "cells": [
  {
   "cell_type": "markdown",
   "metadata": {},
   "source": [
    "# Lab | Hypothesis Testing"
   ]
  },
  {
   "cell_type": "markdown",
   "metadata": {},
   "source": [
    "**Objective**\n",
    "\n",
    "Welcome to the Hypothesis Testing Lab, where we embark on an enlightening journey through the realm of statistical decision-making! In this laboratory, we delve into various scenarios, applying the powerful tools of hypothesis testing to scrutinize and interpret data.\n",
    "\n",
    "From testing the mean of a single sample (One Sample T-Test), to investigating differences between independent groups (Two Sample T-Test), and exploring relationships within dependent samples (Paired Sample T-Test), our exploration knows no bounds. Furthermore, we'll venture into the realm of Analysis of Variance (ANOVA), unraveling the complexities of comparing means across multiple groups.\n",
    "\n",
    "So, grab your statistical tools, prepare your hypotheses, and let's embark on this fascinating journey of exploration and discovery in the world of hypothesis testing!"
   ]
  },
  {
   "cell_type": "markdown",
   "metadata": {},
   "source": [
    "**Challenge 1**"
   ]
  },
  {
   "cell_type": "markdown",
   "metadata": {},
   "source": [
    "In this challenge, we will be working with pokemon data. The data can be found here:\n",
    "\n",
    "- https://raw.githubusercontent.com/data-bootcamp-v4/data/main/pokemon.csv"
   ]
  },
  {
   "cell_type": "code",
   "execution_count": 1,
   "metadata": {},
   "outputs": [],
   "source": [
    "#libraries\n",
    "import pandas as pd\n",
    "import scipy.stats as st\n",
    "import numpy as np\n",
    "import matplotlib.pyplot as plt\n",
    "import plotly.express as px\n",
    "import statsmodels.api as sm\n",
    "import seaborn as sns\n",
    "\n",
    "from statsmodels.multivariate.manova import MANOVA\n",
    "from scipy.stats import pearsonr\n",
    "from scipy import stats\n",
    "from scipy.stats import boxcox"
   ]
  },
  {
   "cell_type": "code",
   "execution_count": 2,
   "metadata": {},
   "outputs": [
    {
     "data": {
      "application/vnd.microsoft.datawrangler.viewer.v0+json": {
       "columns": [
        {
         "name": "index",
         "rawType": "int64",
         "type": "integer"
        },
        {
         "name": "Name",
         "rawType": "object",
         "type": "unknown"
        },
        {
         "name": "Type 1",
         "rawType": "object",
         "type": "string"
        },
        {
         "name": "Type 2",
         "rawType": "object",
         "type": "unknown"
        },
        {
         "name": "HP",
         "rawType": "int64",
         "type": "integer"
        },
        {
         "name": "Attack",
         "rawType": "int64",
         "type": "integer"
        },
        {
         "name": "Defense",
         "rawType": "int64",
         "type": "integer"
        },
        {
         "name": "Sp. Atk",
         "rawType": "int64",
         "type": "integer"
        },
        {
         "name": "Sp. Def",
         "rawType": "int64",
         "type": "integer"
        },
        {
         "name": "Speed",
         "rawType": "int64",
         "type": "integer"
        },
        {
         "name": "Generation",
         "rawType": "int64",
         "type": "integer"
        },
        {
         "name": "Legendary",
         "rawType": "bool",
         "type": "boolean"
        }
       ],
       "ref": "82b4772a-3916-4e29-a750-c6f768230442",
       "rows": [
        [
         "0",
         "Bulbasaur",
         "Grass",
         "Poison",
         "45",
         "49",
         "49",
         "65",
         "65",
         "45",
         "1",
         "False"
        ],
        [
         "1",
         "Ivysaur",
         "Grass",
         "Poison",
         "60",
         "62",
         "63",
         "80",
         "80",
         "60",
         "1",
         "False"
        ],
        [
         "2",
         "Venusaur",
         "Grass",
         "Poison",
         "80",
         "82",
         "83",
         "100",
         "100",
         "80",
         "1",
         "False"
        ],
        [
         "3",
         "Mega Venusaur",
         "Grass",
         "Poison",
         "80",
         "100",
         "123",
         "122",
         "120",
         "80",
         "1",
         "False"
        ],
        [
         "4",
         "Charmander",
         "Fire",
         null,
         "39",
         "52",
         "43",
         "60",
         "50",
         "65",
         "1",
         "False"
        ],
        [
         "5",
         "Charmeleon",
         "Fire",
         null,
         "58",
         "64",
         "58",
         "80",
         "65",
         "80",
         "1",
         "False"
        ],
        [
         "6",
         "Charizard",
         "Fire",
         "Flying",
         "78",
         "84",
         "78",
         "109",
         "85",
         "100",
         "1",
         "False"
        ],
        [
         "7",
         "Mega Charizard X",
         "Fire",
         "Dragon",
         "78",
         "130",
         "111",
         "130",
         "85",
         "100",
         "1",
         "False"
        ],
        [
         "8",
         "Mega Charizard Y",
         "Fire",
         "Flying",
         "78",
         "104",
         "78",
         "159",
         "115",
         "100",
         "1",
         "False"
        ],
        [
         "9",
         "Squirtle",
         "Water",
         null,
         "44",
         "48",
         "65",
         "50",
         "64",
         "43",
         "1",
         "False"
        ],
        [
         "10",
         "Wartortle",
         "Water",
         null,
         "59",
         "63",
         "80",
         "65",
         "80",
         "58",
         "1",
         "False"
        ],
        [
         "11",
         "Blastoise",
         "Water",
         null,
         "79",
         "83",
         "100",
         "85",
         "105",
         "78",
         "1",
         "False"
        ],
        [
         "12",
         "Mega Blastoise",
         "Water",
         null,
         "79",
         "103",
         "120",
         "135",
         "115",
         "78",
         "1",
         "False"
        ],
        [
         "13",
         "Caterpie",
         "Bug",
         null,
         "45",
         "30",
         "35",
         "20",
         "20",
         "45",
         "1",
         "False"
        ],
        [
         "14",
         "Metapod",
         "Bug",
         null,
         "50",
         "20",
         "55",
         "25",
         "25",
         "30",
         "1",
         "False"
        ],
        [
         "15",
         "Butterfree",
         "Bug",
         "Flying",
         "60",
         "45",
         "50",
         "90",
         "80",
         "70",
         "1",
         "False"
        ],
        [
         "16",
         "Weedle",
         "Bug",
         "Poison",
         "40",
         "35",
         "30",
         "20",
         "20",
         "50",
         "1",
         "False"
        ],
        [
         "17",
         "Kakuna",
         "Bug",
         "Poison",
         "45",
         "25",
         "50",
         "25",
         "25",
         "35",
         "1",
         "False"
        ],
        [
         "18",
         "Beedrill",
         "Bug",
         "Poison",
         "65",
         "90",
         "40",
         "45",
         "80",
         "75",
         "1",
         "False"
        ],
        [
         "19",
         "Mega Beedrill",
         "Bug",
         "Poison",
         "65",
         "150",
         "40",
         "15",
         "80",
         "145",
         "1",
         "False"
        ],
        [
         "20",
         "Pidgey",
         "Normal",
         "Flying",
         "40",
         "45",
         "40",
         "35",
         "35",
         "56",
         "1",
         "False"
        ],
        [
         "21",
         "Pidgeotto",
         "Normal",
         "Flying",
         "63",
         "60",
         "55",
         "50",
         "50",
         "71",
         "1",
         "False"
        ],
        [
         "22",
         "Pidgeot",
         "Normal",
         "Flying",
         "83",
         "80",
         "75",
         "70",
         "70",
         "101",
         "1",
         "False"
        ],
        [
         "23",
         "Mega Pidgeot",
         "Normal",
         "Flying",
         "83",
         "80",
         "80",
         "135",
         "80",
         "121",
         "1",
         "False"
        ],
        [
         "24",
         "Rattata",
         "Normal",
         null,
         "30",
         "56",
         "35",
         "25",
         "35",
         "72",
         "1",
         "False"
        ],
        [
         "25",
         "Raticate",
         "Normal",
         null,
         "55",
         "81",
         "60",
         "50",
         "70",
         "97",
         "1",
         "False"
        ],
        [
         "26",
         "Spearow",
         "Normal",
         "Flying",
         "40",
         "60",
         "30",
         "31",
         "31",
         "70",
         "1",
         "False"
        ],
        [
         "27",
         "Fearow",
         "Normal",
         "Flying",
         "65",
         "90",
         "65",
         "61",
         "61",
         "100",
         "1",
         "False"
        ],
        [
         "28",
         "Ekans",
         "Poison",
         null,
         "35",
         "60",
         "44",
         "40",
         "54",
         "55",
         "1",
         "False"
        ],
        [
         "29",
         "Arbok",
         "Poison",
         null,
         "60",
         "85",
         "69",
         "65",
         "79",
         "80",
         "1",
         "False"
        ],
        [
         "30",
         "Pikachu",
         "Electric",
         null,
         "35",
         "55",
         "40",
         "50",
         "50",
         "90",
         "1",
         "False"
        ],
        [
         "31",
         "Raichu",
         "Electric",
         null,
         "60",
         "90",
         "55",
         "90",
         "80",
         "110",
         "1",
         "False"
        ],
        [
         "32",
         "Sandshrew",
         "Ground",
         null,
         "50",
         "75",
         "85",
         "20",
         "30",
         "40",
         "1",
         "False"
        ],
        [
         "33",
         "Sandslash",
         "Ground",
         null,
         "75",
         "100",
         "110",
         "45",
         "55",
         "65",
         "1",
         "False"
        ],
        [
         "34",
         "Nidoran♀",
         "Poison",
         null,
         "55",
         "47",
         "52",
         "40",
         "40",
         "41",
         "1",
         "False"
        ],
        [
         "35",
         "Nidorina",
         "Poison",
         null,
         "70",
         "62",
         "67",
         "55",
         "55",
         "56",
         "1",
         "False"
        ],
        [
         "36",
         "Nidoqueen",
         "Poison",
         "Ground",
         "90",
         "92",
         "87",
         "75",
         "85",
         "76",
         "1",
         "False"
        ],
        [
         "37",
         "Nidoran♂",
         "Poison",
         null,
         "46",
         "57",
         "40",
         "40",
         "40",
         "50",
         "1",
         "False"
        ],
        [
         "38",
         "Nidorino",
         "Poison",
         null,
         "61",
         "72",
         "57",
         "55",
         "55",
         "65",
         "1",
         "False"
        ],
        [
         "39",
         "Nidoking",
         "Poison",
         "Ground",
         "81",
         "102",
         "77",
         "85",
         "75",
         "85",
         "1",
         "False"
        ],
        [
         "40",
         "Clefairy",
         "Fairy",
         null,
         "70",
         "45",
         "48",
         "60",
         "65",
         "35",
         "1",
         "False"
        ],
        [
         "41",
         "Clefable",
         "Fairy",
         null,
         "95",
         "70",
         "73",
         "95",
         "90",
         "60",
         "1",
         "False"
        ],
        [
         "42",
         "Vulpix",
         "Fire",
         null,
         "38",
         "41",
         "40",
         "50",
         "65",
         "65",
         "1",
         "False"
        ],
        [
         "43",
         "Ninetales",
         "Fire",
         null,
         "73",
         "76",
         "75",
         "81",
         "100",
         "100",
         "1",
         "False"
        ],
        [
         "44",
         "Jigglypuff",
         "Normal",
         "Fairy",
         "115",
         "45",
         "20",
         "45",
         "25",
         "20",
         "1",
         "False"
        ],
        [
         "45",
         "Wigglytuff",
         "Normal",
         "Fairy",
         "140",
         "70",
         "45",
         "85",
         "50",
         "45",
         "1",
         "False"
        ],
        [
         "46",
         "Zubat",
         "Poison",
         "Flying",
         "40",
         "45",
         "35",
         "30",
         "40",
         "55",
         "1",
         "False"
        ],
        [
         "47",
         "Golbat",
         "Poison",
         "Flying",
         "75",
         "80",
         "70",
         "65",
         "75",
         "90",
         "1",
         "False"
        ],
        [
         "48",
         "Oddish",
         "Grass",
         "Poison",
         "45",
         "50",
         "55",
         "75",
         "65",
         "30",
         "1",
         "False"
        ],
        [
         "49",
         "Gloom",
         "Grass",
         "Poison",
         "60",
         "65",
         "70",
         "85",
         "75",
         "40",
         "1",
         "False"
        ]
       ],
       "shape": {
        "columns": 11,
        "rows": 800
       }
      },
      "text/html": [
       "<div>\n",
       "<style scoped>\n",
       "    .dataframe tbody tr th:only-of-type {\n",
       "        vertical-align: middle;\n",
       "    }\n",
       "\n",
       "    .dataframe tbody tr th {\n",
       "        vertical-align: top;\n",
       "    }\n",
       "\n",
       "    .dataframe thead th {\n",
       "        text-align: right;\n",
       "    }\n",
       "</style>\n",
       "<table border=\"1\" class=\"dataframe\">\n",
       "  <thead>\n",
       "    <tr style=\"text-align: right;\">\n",
       "      <th></th>\n",
       "      <th>Name</th>\n",
       "      <th>Type 1</th>\n",
       "      <th>Type 2</th>\n",
       "      <th>HP</th>\n",
       "      <th>Attack</th>\n",
       "      <th>Defense</th>\n",
       "      <th>Sp. Atk</th>\n",
       "      <th>Sp. Def</th>\n",
       "      <th>Speed</th>\n",
       "      <th>Generation</th>\n",
       "      <th>Legendary</th>\n",
       "    </tr>\n",
       "  </thead>\n",
       "  <tbody>\n",
       "    <tr>\n",
       "      <th>0</th>\n",
       "      <td>Bulbasaur</td>\n",
       "      <td>Grass</td>\n",
       "      <td>Poison</td>\n",
       "      <td>45</td>\n",
       "      <td>49</td>\n",
       "      <td>49</td>\n",
       "      <td>65</td>\n",
       "      <td>65</td>\n",
       "      <td>45</td>\n",
       "      <td>1</td>\n",
       "      <td>False</td>\n",
       "    </tr>\n",
       "    <tr>\n",
       "      <th>1</th>\n",
       "      <td>Ivysaur</td>\n",
       "      <td>Grass</td>\n",
       "      <td>Poison</td>\n",
       "      <td>60</td>\n",
       "      <td>62</td>\n",
       "      <td>63</td>\n",
       "      <td>80</td>\n",
       "      <td>80</td>\n",
       "      <td>60</td>\n",
       "      <td>1</td>\n",
       "      <td>False</td>\n",
       "    </tr>\n",
       "    <tr>\n",
       "      <th>2</th>\n",
       "      <td>Venusaur</td>\n",
       "      <td>Grass</td>\n",
       "      <td>Poison</td>\n",
       "      <td>80</td>\n",
       "      <td>82</td>\n",
       "      <td>83</td>\n",
       "      <td>100</td>\n",
       "      <td>100</td>\n",
       "      <td>80</td>\n",
       "      <td>1</td>\n",
       "      <td>False</td>\n",
       "    </tr>\n",
       "    <tr>\n",
       "      <th>3</th>\n",
       "      <td>Mega Venusaur</td>\n",
       "      <td>Grass</td>\n",
       "      <td>Poison</td>\n",
       "      <td>80</td>\n",
       "      <td>100</td>\n",
       "      <td>123</td>\n",
       "      <td>122</td>\n",
       "      <td>120</td>\n",
       "      <td>80</td>\n",
       "      <td>1</td>\n",
       "      <td>False</td>\n",
       "    </tr>\n",
       "    <tr>\n",
       "      <th>4</th>\n",
       "      <td>Charmander</td>\n",
       "      <td>Fire</td>\n",
       "      <td>NaN</td>\n",
       "      <td>39</td>\n",
       "      <td>52</td>\n",
       "      <td>43</td>\n",
       "      <td>60</td>\n",
       "      <td>50</td>\n",
       "      <td>65</td>\n",
       "      <td>1</td>\n",
       "      <td>False</td>\n",
       "    </tr>\n",
       "    <tr>\n",
       "      <th>...</th>\n",
       "      <td>...</td>\n",
       "      <td>...</td>\n",
       "      <td>...</td>\n",
       "      <td>...</td>\n",
       "      <td>...</td>\n",
       "      <td>...</td>\n",
       "      <td>...</td>\n",
       "      <td>...</td>\n",
       "      <td>...</td>\n",
       "      <td>...</td>\n",
       "      <td>...</td>\n",
       "    </tr>\n",
       "    <tr>\n",
       "      <th>795</th>\n",
       "      <td>Diancie</td>\n",
       "      <td>Rock</td>\n",
       "      <td>Fairy</td>\n",
       "      <td>50</td>\n",
       "      <td>100</td>\n",
       "      <td>150</td>\n",
       "      <td>100</td>\n",
       "      <td>150</td>\n",
       "      <td>50</td>\n",
       "      <td>6</td>\n",
       "      <td>True</td>\n",
       "    </tr>\n",
       "    <tr>\n",
       "      <th>796</th>\n",
       "      <td>Mega Diancie</td>\n",
       "      <td>Rock</td>\n",
       "      <td>Fairy</td>\n",
       "      <td>50</td>\n",
       "      <td>160</td>\n",
       "      <td>110</td>\n",
       "      <td>160</td>\n",
       "      <td>110</td>\n",
       "      <td>110</td>\n",
       "      <td>6</td>\n",
       "      <td>True</td>\n",
       "    </tr>\n",
       "    <tr>\n",
       "      <th>797</th>\n",
       "      <td>Hoopa Confined</td>\n",
       "      <td>Psychic</td>\n",
       "      <td>Ghost</td>\n",
       "      <td>80</td>\n",
       "      <td>110</td>\n",
       "      <td>60</td>\n",
       "      <td>150</td>\n",
       "      <td>130</td>\n",
       "      <td>70</td>\n",
       "      <td>6</td>\n",
       "      <td>True</td>\n",
       "    </tr>\n",
       "    <tr>\n",
       "      <th>798</th>\n",
       "      <td>Hoopa Unbound</td>\n",
       "      <td>Psychic</td>\n",
       "      <td>Dark</td>\n",
       "      <td>80</td>\n",
       "      <td>160</td>\n",
       "      <td>60</td>\n",
       "      <td>170</td>\n",
       "      <td>130</td>\n",
       "      <td>80</td>\n",
       "      <td>6</td>\n",
       "      <td>True</td>\n",
       "    </tr>\n",
       "    <tr>\n",
       "      <th>799</th>\n",
       "      <td>Volcanion</td>\n",
       "      <td>Fire</td>\n",
       "      <td>Water</td>\n",
       "      <td>80</td>\n",
       "      <td>110</td>\n",
       "      <td>120</td>\n",
       "      <td>130</td>\n",
       "      <td>90</td>\n",
       "      <td>70</td>\n",
       "      <td>6</td>\n",
       "      <td>True</td>\n",
       "    </tr>\n",
       "  </tbody>\n",
       "</table>\n",
       "<p>800 rows × 11 columns</p>\n",
       "</div>"
      ],
      "text/plain": [
       "               Name   Type 1  Type 2  HP  Attack  Defense  Sp. Atk  Sp. Def  \\\n",
       "0         Bulbasaur    Grass  Poison  45      49       49       65       65   \n",
       "1           Ivysaur    Grass  Poison  60      62       63       80       80   \n",
       "2          Venusaur    Grass  Poison  80      82       83      100      100   \n",
       "3     Mega Venusaur    Grass  Poison  80     100      123      122      120   \n",
       "4        Charmander     Fire     NaN  39      52       43       60       50   \n",
       "..              ...      ...     ...  ..     ...      ...      ...      ...   \n",
       "795         Diancie     Rock   Fairy  50     100      150      100      150   \n",
       "796    Mega Diancie     Rock   Fairy  50     160      110      160      110   \n",
       "797  Hoopa Confined  Psychic   Ghost  80     110       60      150      130   \n",
       "798   Hoopa Unbound  Psychic    Dark  80     160       60      170      130   \n",
       "799       Volcanion     Fire   Water  80     110      120      130       90   \n",
       "\n",
       "     Speed  Generation  Legendary  \n",
       "0       45           1      False  \n",
       "1       60           1      False  \n",
       "2       80           1      False  \n",
       "3       80           1      False  \n",
       "4       65           1      False  \n",
       "..     ...         ...        ...  \n",
       "795     50           6       True  \n",
       "796    110           6       True  \n",
       "797     70           6       True  \n",
       "798     80           6       True  \n",
       "799     70           6       True  \n",
       "\n",
       "[800 rows x 11 columns]"
      ]
     },
     "execution_count": 2,
     "metadata": {},
     "output_type": "execute_result"
    }
   ],
   "source": [
    "df = pd.read_csv(\"https://raw.githubusercontent.com/data-bootcamp-v4/data/main/pokemon.csv\")\n",
    "df"
   ]
  },
  {
   "cell_type": "code",
   "execution_count": 3,
   "metadata": {},
   "outputs": [
    {
     "data": {
      "text/plain": [
       "array(['Grass', 'Fire', 'Water', 'Bug', 'Normal', 'Poison', 'Electric',\n",
       "       'Ground', 'Fairy', 'Fighting', 'Psychic', 'Rock', 'Ghost', 'Ice',\n",
       "       'Dragon', 'Dark', 'Steel', 'Flying'], dtype=object)"
      ]
     },
     "execution_count": 3,
     "metadata": {},
     "output_type": "execute_result"
    }
   ],
   "source": [
    "df['Type 1'].unique()"
   ]
  },
  {
   "cell_type": "code",
   "execution_count": 4,
   "metadata": {},
   "outputs": [],
   "source": [
    "def show_statistical_test(statistic: float, alpha: float, n: int, distribution: str=[\"t-student\",\"normal\"], alternative: str=[\"two-sided\",\"lower\",\"greater\"]):\n",
    "\n",
    "    if distribution not in [\"t-student\",\"normal\"]:\n",
    "        raise TypeError(\"Sorry, only 't-student', and 'normal' distributions are acepted\")\n",
    "\n",
    "    if alternative not in [\"two-sided\",\"lower\",\"greater\"]:\n",
    "        raise TypeError(\"Sorry, only 'two-sided', 'lower', and 'greated' are acepted valued for the alternative\")\n",
    "\n",
    "    if not isinstance(statistic, float):\n",
    "        raise TypeError(\"Sorry, the data type for the statistic must be float\")\n",
    "\n",
    "    if not isinstance(alpha, float):\n",
    "        raise TypeError(\"Sorry, the data type for alpha must be float\")\n",
    "\n",
    "    if not isinstance(n, int):\n",
    "        raise TypeError(\"Sorry, the data type for n must be int\")\n",
    "\n",
    "    x_values = np.linspace(-3, 3)\n",
    "\n",
    "    if distribution == \"t-student\":\n",
    "\n",
    "        y_values = st.t.pdf(x_values, df=n-1)\n",
    "\n",
    "        if alternative == \"two-sided\": # Computing the critical values\n",
    "\n",
    "            lower_critical_value = st.t.ppf(alpha/2, df=n-1)\n",
    "            upper_critical_value = st.t.ppf(1-(alpha/2), df=n-1)\n",
    "\n",
    "            x_values1 = np.linspace(-3, lower_critical_value)\n",
    "            y_values1 = st.t.pdf(x_values1, df=n-1)\n",
    "\n",
    "            x_values2 = np.linspace(upper_critical_value, 3)\n",
    "            y_values2 = st.t.pdf(x_values2, df=n-1)\n",
    "\n",
    "        elif alternative == \"lower\":\n",
    "\n",
    "            critical_value = st.t.ppf(alpha, df=n-1)\n",
    "\n",
    "            x_values1 = np.linspace(-3, critical_value)\n",
    "            y_values1 = st.t.pdf(x_values1, df=n-1)\n",
    "\n",
    "        elif alternative == \"greater\":\n",
    "\n",
    "            critical_value = st.t.ppf(1-alpha, df=n-1)\n",
    "\n",
    "            x_values2 = np.linspace(critical_value, 3)\n",
    "            y_values2 = st.t.pdf(x_values2, df=n-1)\n",
    "\n",
    "    elif distribution == \"normal\":\n",
    "\n",
    "        y_values = st.norm.pdf(x_values)\n",
    "\n",
    "        if alternative == \"two-sided\": # Computing the critical values\n",
    "\n",
    "            lower_critical_value = st.norm.ppf(alpha/2)\n",
    "            upper_critical_value = st.norm.ppf(1-(alpha/2))\n",
    "\n",
    "            x_values1 = np.linspace(-3, lower_critical_value)\n",
    "            y_values1 = st.norm.pdf(x_values1)\n",
    "\n",
    "            x_values2 = np.linspace(upper_critical_value, 3)\n",
    "            y_values2 = st.norm.pdf(x_values2)\n",
    "\n",
    "        elif alternative == \"lower\":\n",
    "\n",
    "            critical_value = st.norm.ppf(alpha)\n",
    "\n",
    "            x_values1 = np.linspace(-3, critical_value)\n",
    "            y_values1 = st.norm.pdf(x_values1)\n",
    "\n",
    "        elif alternative == \"greater\":\n",
    "\n",
    "            critical_value = st.norm.ppf(1-alpha)\n",
    "\n",
    "            x_values2 = np.linspace(critical_value, 3)\n",
    "            y_values2 = st.norm.pdf(x_values2)\n",
    "\n",
    "    df = pd.DataFrame({\"x\": x_values, \"pdf\": y_values})\n",
    "\n",
    "    title = f\"{distribution} Probability Density Function\"\n",
    "\n",
    "    fig = px.line(df, x=\"x\", y=\"pdf\", title=title)\n",
    "\n",
    "    if alternative == \"two-sided\":\n",
    "\n",
    "        fig.add_vline(x=lower_critical_value, line_color=\"red\")\n",
    "        fig.add_vline(x=upper_critical_value, line_color=\"red\")\n",
    "\n",
    "        fig.add_annotation(x=lower_critical_value,y=0,text=f\"Lower critical value {lower_critical_value: .2f}\",xref=\"x\",yref=\"paper\",yanchor=\"bottom\")\n",
    "        fig.add_annotation(x=upper_critical_value,y=0,text=f\"Upper critical value {upper_critical_value: .2f}\",xref=\"x\",yref=\"paper\",yanchor=\"bottom\")\n",
    "\n",
    "        fig.add_scatter(x=x_values1, y=y_values1,fill='tozeroy', mode='none' , fillcolor='red')\n",
    "        fig.add_scatter(x=x_values2, y=y_values2,fill='tozeroy', mode='none' , fillcolor='red')\n",
    "\n",
    "    elif alternative == \"lower\":\n",
    "\n",
    "        fig.add_vline(x=critical_value, line_color=\"red\")\n",
    "        fig.add_annotation(x=critical_value,y=0,text=f\"Critical value {critical_value: .2f}\",xref=\"x\",yref=\"paper\",yanchor=\"bottom\")\n",
    "\n",
    "        fig.add_scatter(x=x_values1, y=y_values1,fill='tozeroy', mode='none' , fillcolor='red')\n",
    "\n",
    "    elif alternative == \"greater\":\n",
    "\n",
    "        fig.add_vline(x=critical_value, line_color=\"red\")\n",
    "        fig.add_annotation(x=critical_value,y=0,text=f\"Critical value {critical_value: .2f}\",xref=\"x\",yref=\"paper\",yanchor=\"bottom\")\n",
    "\n",
    "        fig.add_scatter(x=x_values2, y=y_values2,fill='tozeroy', mode='none' , fillcolor='red')\n",
    "\n",
    "    fig.add_vline(x=statistic)\n",
    "    fig.add_annotation(x=statistic,y=0,text=f\"Statistic {statistic: .2f}\",xref=\"x\",yref=\"paper\",yanchor=\"bottom\")\n",
    "\n",
    "    fig.update_layout(title_text=f'{distribution} Probability Density Function', title_x=0.5)\n",
    "\n",
    "    fig.update_layout(showlegend=False)\n",
    "\n",
    "    fig.show()"
   ]
  },
  {
   "cell_type": "markdown",
   "metadata": {},
   "source": [
    "- We posit that Pokemons of type Dragon have, on average, more HP stats than Grass. Choose the propper test and, with 5% significance, comment your findings."
   ]
  },
  {
   "cell_type": "code",
   "execution_count": 5,
   "metadata": {},
   "outputs": [
    {
     "name": "stdout",
     "output_type": "stream",
     "text": [
      "3.3349632905124063\n",
      "\n"
     ]
    },
    {
     "data": {
      "application/vnd.plotly.v1+json": {
       "config": {
        "plotlyServerURL": "https://plot.ly"
       },
       "data": [
        {
         "hovertemplate": "x=%{x}<br>pdf=%{y}<extra></extra>",
         "legendgroup": "",
         "line": {
          "color": "#636efa",
          "dash": "solid"
         },
         "marker": {
          "symbol": "circle"
         },
         "mode": "lines",
         "name": "",
         "orientation": "v",
         "showlegend": false,
         "type": "scatter",
         "x": {
          "bdata": "AAAAAAAACMDByyl4OQUHwIOXU/ByCgbARGN9aKwPBcAFL6fg5RQEwMb60FgfGgPAiMb60FgfAsBJkiRJkiQBwApeTsHLKQDAmFPwcgpe/r8a60NjfWj8v52Cl1Pwcvq/IBrrQ2N9+L+isT401of2vyVJkiRJkvS/p+DlFLyc8r8qeDkFL6fwv1gfGutDY+2/YE7Byyl46b9kfWisD43lv2isD431oeG/4LZt27Zt27/oFLycgpfTv+DlFLycgse/AIjG+tBYr7/Ah8b60FivP+DlFLycgsc/6BS8nIKX0z/Ytm3btm3bP2isD431oeE/ZH1orA+N5T9cTsHLKXjpP1gfGutDY+0/KHg5BS+n8D+o4OUUvJzyPyRJkiRJkvQ/oLE+NNaH9j8gGutDY334P5yCl1Pwcvo/GOtDY31o/D+YU/ByCl7+PwpeTsHLKQBASJIkSZIkAUCIxvrQWB8CQMb60FgfGgNABC+n4OUUBEBEY31orA8FQIKXU/ByCgZAwMspeDkFB0AAAAAAAAAIQA==",
          "dtype": "f8"
         },
         "xaxis": "x",
         "y": {
          "bdata": "GF0O2IMGdT/28UkMPl99P+mPcLpkRoQ/UnmKAb+niz+VVeEbY6GSP2ApUunoyZg/JYgOXD9IoD939ln+IR2lP2IyAGs1Bas/d6T9c0IPsT9loCmhOEC1P+cKYXEbHLo/s34Gbquivz9Vb49XjuXCP+jUoR9cQcY/1J6zOALWyT+jku2+U4/NPwZv1hwLqtA/dryP3G+D0j/oKEwqt0PUP99mMho02tU/ziK1b7I21z+uO0IzikrYP6B1mKyoCdk/IO3wZHRr2T8g7fBkdGvZP6B1mKyoCdk/rjtCM4pK2D/QIrVvsjbXP99mMho02tU/6ChMKrdD1D94vI/cb4PSPwZv1hwLqtA/ppLtvlOPzT/RnrM4AtbJP+nUoR9cQcY/V2+PV47lwj+zfgZuq6K/P+oKYXEbHLo/aqApoThAtT93pP1zQg+xP2IyAGs1Bas/fPZZ/iEdpT8liA5cP0igP2ApUunoyZg/nlXhG2Ohkj9SeYoBv6eLP/OPcLpkRoQ//fFJDD5ffT8YXQ7YgwZ1Pw==",
          "dtype": "f8"
         },
         "yaxis": "y"
        },
        {
         "fill": "tozeroy",
         "fillcolor": "red",
         "mode": "none",
         "type": "scatter",
         "x": {
          "bdata": "AAAAAAAACMCEx8Fei9UHwAmPg70WqwfAjVZFHKKAB8ASHgd7LVYHwJblyNm4KwfAG62KOEQBB8CfdEyXz9YGwCQ8DvZarAbAqAPQVOaBBsAty5GzcVcGwLGSUxL9LAbANloVcYgCBsC6IdfPE9gFwD/pmC6frQXAw7BajSqDBcBIeBzstVgFwMw/3kpBLgXAUQegqcwDBcDVzmEIWNkEwFqWI2fjrgTA3l3lxW6EBMBiJack+lkEwOfsaIOFLwTAbLQq4hAFBMDwe+xAnNoDwHRDrp8nsAPA+Qpw/rKFA8B90jFdPlsDwAKa87vJMAPAhmG1GlUGA8ALKXd54NsCwI/wONhrsQLAFLj6NveGAsCYf7yVglwCwB1HfvQNMgLAoQ5AU5kHAsAm1gGyJN0BwKqdwxCwsgHALmWFbzuIAcCzLEfOxl0BwDj0CC1SMwHAvLvKi90IAcBAg4zqaN4AwMVKTkn0swDAShIQqH+JAMDO2dEGC18AwFKhk2WWNADA12hVxCEKAMC3YC5GWr//vw==",
          "dtype": "f8"
         },
         "y": {
          "bdata": "GF0O2IMGdT9exAcTnUR2P1wZfJOAk3c/jc+fIu7zeD9D9BbRq2Z6P6o1mgaG7Hs//0kjj0+GfT8xtW6l4TR/P/jXT/2NfIA/ietoXfJpgT/voTFHFGOCP7Zm4EttaIM/a7e+Nnp6hD/VmT4Iu5mFP0vL/e6yxoY/v3uaPugBiD+8WT1k5EuJP5/AvNgzpYo/EQE9EGYOjD/p/jFnDYiNP7S9pgy/Eo8/6vvXdIlXkD+fu/fC0S6RP1JWh/SGD5I/q/GLvPj5kj+BPcvqd+6TP67es1dW7ZQ/fJ6Tzub2lT+2khH2fAuXPw1F4zZtK5g/U8i0oAxXmT9TpDzNsI6aP5KTdcGv0ps/RzL5zF8jnT9N+ndnF4GePy02TAwt7J8/rH0TinuyoD+/2WvG5XWhP7UlmAeAQKI/bN6EyXQSoz80L7cg7uujP6OUeKIVzaQ/c30dTBS2pT/+YGxpEqemP2m9K3o3oKc/QXLeFqqhqD/M87bUj6upP8fhyigNvqo/pp6RSkXZqz+cmbkVWv2sPw==",
          "dtype": "f8"
         }
        },
        {
         "fill": "tozeroy",
         "fillcolor": "red",
         "mode": "none",
         "type": "scatter",
         "x": {
          "bdata": "tWAuRlq//z/WaFXEIQoAQFKhk2WWNABAzdnRBgtfAEBJEhCof4kAQMRKTkn0swBAQIOM6mjeAEC7u8qL3QgBQDf0CC1SMwFAsixHzsZdAUAuZYVvO4gBQKmdwxCwsgFAJdYBsiTdAUCgDkBTmQcCQBxHfvQNMgJAmH+8lYJcAkATuPo294YCQI/wONhrsQJACil3eeDbAkCGYbUaVQYDQAGa87vJMANAfdIxXT5bA0D4CnD+soUDQHRDrp8nsANA8HvsQJzaA0BrtCriEAUEQObsaIOFLwRAYiWnJPpZBEDeXeXFboQEQFmWI2fjrgRA1c5hCFjZBEBQB6CpzAMFQMw/3kpBLgVAR3gc7LVYBUDDsFqNKoMFQD7pmC6frQVAuiHXzxPYBUA2WhVxiAIGQLGSUxL9LAZALMuRs3FXBkCoA9BU5oEGQCQ8DvZarAZAn3RMl8/WBkAbrYo4RAEHQJblyNm4KwdAEh4Hey1WB0CNVkUcooAHQAmPg70WqwdAhMfBXovVB0AAAAAAAAAIQA==",
          "dtype": "f8"
         },
         "y": {
          "bdata": "o5m5FVr9rD+xnpFKRdmrP8fhyigNvqo/0vO21I+rqT9Hct4WqqGoP2+9K3o3oKc//mBsaRKnpj95fR1MFLalP6mUeKIVzaQ/PC+3IO7roz9s3oTJdBKjP7glmAeAQKI/w9lrxuV1oT+ufROKe7KgPzE2TAwt7J8/Tfp3ZxeBnj9SMvnMXyOdP5KTdcGv0ps/WqQ8zbCOmj9TyLSgDFeZPxBF4zZtK5g/tpIR9nwLlz+EnpPO5vaVP67es1dW7ZQ/gT3L6nfukz+y8Yu8+PmSP1dWh/SGD5I/n7v3wtEukT/q+9d0iVeQP7y9pgy/Eo8/6f4xZw2IjT8YAT0QZg6MP5/AvNgzpYo/yFk9ZORLiT+/e5o+6AGIP1DL/e6yxoY/1Zk+CLuZhT9rt742enqEP7Zm4EttaIM/86ExRxRjgj+J62hd8mmBP/jXT/2NfIA/MbVupeE0fz//SSOPT4Z9P6o1mgaG7Hs/Q/QW0atmej+Nz58i7vN4P1wZfJOAk3c/XsQHE51Edj8YXQ7YgwZ1Pw==",
          "dtype": "f8"
         }
        }
       ],
       "layout": {
        "annotations": [
         {
          "text": "Lower critical value -1.98",
          "x": -1.9842169515086832,
          "xref": "x",
          "y": 0,
          "yanchor": "bottom",
          "yref": "paper"
         },
         {
          "text": "Upper critical value  1.98",
          "x": 1.9842169515086827,
          "xref": "x",
          "y": 0,
          "yanchor": "bottom",
          "yref": "paper"
         },
         {
          "text": "Statistic  3.33",
          "x": 3.3349632905124063,
          "xref": "x",
          "y": 0,
          "yanchor": "bottom",
          "yref": "paper"
         }
        ],
        "legend": {
         "tracegroupgap": 0
        },
        "shapes": [
         {
          "line": {
           "color": "red"
          },
          "type": "line",
          "x0": -1.9842169515086832,
          "x1": -1.9842169515086832,
          "xref": "x",
          "y0": 0,
          "y1": 1,
          "yref": "y domain"
         },
         {
          "line": {
           "color": "red"
          },
          "type": "line",
          "x0": 1.9842169515086827,
          "x1": 1.9842169515086827,
          "xref": "x",
          "y0": 0,
          "y1": 1,
          "yref": "y domain"
         },
         {
          "type": "line",
          "x0": 3.3349632905124063,
          "x1": 3.3349632905124063,
          "xref": "x",
          "y0": 0,
          "y1": 1,
          "yref": "y domain"
         }
        ],
        "showlegend": false,
        "template": {
         "data": {
          "bar": [
           {
            "error_x": {
             "color": "#2a3f5f"
            },
            "error_y": {
             "color": "#2a3f5f"
            },
            "marker": {
             "line": {
              "color": "#E5ECF6",
              "width": 0.5
             },
             "pattern": {
              "fillmode": "overlay",
              "size": 10,
              "solidity": 0.2
             }
            },
            "type": "bar"
           }
          ],
          "barpolar": [
           {
            "marker": {
             "line": {
              "color": "#E5ECF6",
              "width": 0.5
             },
             "pattern": {
              "fillmode": "overlay",
              "size": 10,
              "solidity": 0.2
             }
            },
            "type": "barpolar"
           }
          ],
          "carpet": [
           {
            "aaxis": {
             "endlinecolor": "#2a3f5f",
             "gridcolor": "white",
             "linecolor": "white",
             "minorgridcolor": "white",
             "startlinecolor": "#2a3f5f"
            },
            "baxis": {
             "endlinecolor": "#2a3f5f",
             "gridcolor": "white",
             "linecolor": "white",
             "minorgridcolor": "white",
             "startlinecolor": "#2a3f5f"
            },
            "type": "carpet"
           }
          ],
          "choropleth": [
           {
            "colorbar": {
             "outlinewidth": 0,
             "ticks": ""
            },
            "type": "choropleth"
           }
          ],
          "contour": [
           {
            "colorbar": {
             "outlinewidth": 0,
             "ticks": ""
            },
            "colorscale": [
             [
              0,
              "#0d0887"
             ],
             [
              0.1111111111111111,
              "#46039f"
             ],
             [
              0.2222222222222222,
              "#7201a8"
             ],
             [
              0.3333333333333333,
              "#9c179e"
             ],
             [
              0.4444444444444444,
              "#bd3786"
             ],
             [
              0.5555555555555556,
              "#d8576b"
             ],
             [
              0.6666666666666666,
              "#ed7953"
             ],
             [
              0.7777777777777778,
              "#fb9f3a"
             ],
             [
              0.8888888888888888,
              "#fdca26"
             ],
             [
              1,
              "#f0f921"
             ]
            ],
            "type": "contour"
           }
          ],
          "contourcarpet": [
           {
            "colorbar": {
             "outlinewidth": 0,
             "ticks": ""
            },
            "type": "contourcarpet"
           }
          ],
          "heatmap": [
           {
            "colorbar": {
             "outlinewidth": 0,
             "ticks": ""
            },
            "colorscale": [
             [
              0,
              "#0d0887"
             ],
             [
              0.1111111111111111,
              "#46039f"
             ],
             [
              0.2222222222222222,
              "#7201a8"
             ],
             [
              0.3333333333333333,
              "#9c179e"
             ],
             [
              0.4444444444444444,
              "#bd3786"
             ],
             [
              0.5555555555555556,
              "#d8576b"
             ],
             [
              0.6666666666666666,
              "#ed7953"
             ],
             [
              0.7777777777777778,
              "#fb9f3a"
             ],
             [
              0.8888888888888888,
              "#fdca26"
             ],
             [
              1,
              "#f0f921"
             ]
            ],
            "type": "heatmap"
           }
          ],
          "histogram": [
           {
            "marker": {
             "pattern": {
              "fillmode": "overlay",
              "size": 10,
              "solidity": 0.2
             }
            },
            "type": "histogram"
           }
          ],
          "histogram2d": [
           {
            "colorbar": {
             "outlinewidth": 0,
             "ticks": ""
            },
            "colorscale": [
             [
              0,
              "#0d0887"
             ],
             [
              0.1111111111111111,
              "#46039f"
             ],
             [
              0.2222222222222222,
              "#7201a8"
             ],
             [
              0.3333333333333333,
              "#9c179e"
             ],
             [
              0.4444444444444444,
              "#bd3786"
             ],
             [
              0.5555555555555556,
              "#d8576b"
             ],
             [
              0.6666666666666666,
              "#ed7953"
             ],
             [
              0.7777777777777778,
              "#fb9f3a"
             ],
             [
              0.8888888888888888,
              "#fdca26"
             ],
             [
              1,
              "#f0f921"
             ]
            ],
            "type": "histogram2d"
           }
          ],
          "histogram2dcontour": [
           {
            "colorbar": {
             "outlinewidth": 0,
             "ticks": ""
            },
            "colorscale": [
             [
              0,
              "#0d0887"
             ],
             [
              0.1111111111111111,
              "#46039f"
             ],
             [
              0.2222222222222222,
              "#7201a8"
             ],
             [
              0.3333333333333333,
              "#9c179e"
             ],
             [
              0.4444444444444444,
              "#bd3786"
             ],
             [
              0.5555555555555556,
              "#d8576b"
             ],
             [
              0.6666666666666666,
              "#ed7953"
             ],
             [
              0.7777777777777778,
              "#fb9f3a"
             ],
             [
              0.8888888888888888,
              "#fdca26"
             ],
             [
              1,
              "#f0f921"
             ]
            ],
            "type": "histogram2dcontour"
           }
          ],
          "mesh3d": [
           {
            "colorbar": {
             "outlinewidth": 0,
             "ticks": ""
            },
            "type": "mesh3d"
           }
          ],
          "parcoords": [
           {
            "line": {
             "colorbar": {
              "outlinewidth": 0,
              "ticks": ""
             }
            },
            "type": "parcoords"
           }
          ],
          "pie": [
           {
            "automargin": true,
            "type": "pie"
           }
          ],
          "scatter": [
           {
            "fillpattern": {
             "fillmode": "overlay",
             "size": 10,
             "solidity": 0.2
            },
            "type": "scatter"
           }
          ],
          "scatter3d": [
           {
            "line": {
             "colorbar": {
              "outlinewidth": 0,
              "ticks": ""
             }
            },
            "marker": {
             "colorbar": {
              "outlinewidth": 0,
              "ticks": ""
             }
            },
            "type": "scatter3d"
           }
          ],
          "scattercarpet": [
           {
            "marker": {
             "colorbar": {
              "outlinewidth": 0,
              "ticks": ""
             }
            },
            "type": "scattercarpet"
           }
          ],
          "scattergeo": [
           {
            "marker": {
             "colorbar": {
              "outlinewidth": 0,
              "ticks": ""
             }
            },
            "type": "scattergeo"
           }
          ],
          "scattergl": [
           {
            "marker": {
             "colorbar": {
              "outlinewidth": 0,
              "ticks": ""
             }
            },
            "type": "scattergl"
           }
          ],
          "scattermap": [
           {
            "marker": {
             "colorbar": {
              "outlinewidth": 0,
              "ticks": ""
             }
            },
            "type": "scattermap"
           }
          ],
          "scattermapbox": [
           {
            "marker": {
             "colorbar": {
              "outlinewidth": 0,
              "ticks": ""
             }
            },
            "type": "scattermapbox"
           }
          ],
          "scatterpolar": [
           {
            "marker": {
             "colorbar": {
              "outlinewidth": 0,
              "ticks": ""
             }
            },
            "type": "scatterpolar"
           }
          ],
          "scatterpolargl": [
           {
            "marker": {
             "colorbar": {
              "outlinewidth": 0,
              "ticks": ""
             }
            },
            "type": "scatterpolargl"
           }
          ],
          "scatterternary": [
           {
            "marker": {
             "colorbar": {
              "outlinewidth": 0,
              "ticks": ""
             }
            },
            "type": "scatterternary"
           }
          ],
          "surface": [
           {
            "colorbar": {
             "outlinewidth": 0,
             "ticks": ""
            },
            "colorscale": [
             [
              0,
              "#0d0887"
             ],
             [
              0.1111111111111111,
              "#46039f"
             ],
             [
              0.2222222222222222,
              "#7201a8"
             ],
             [
              0.3333333333333333,
              "#9c179e"
             ],
             [
              0.4444444444444444,
              "#bd3786"
             ],
             [
              0.5555555555555556,
              "#d8576b"
             ],
             [
              0.6666666666666666,
              "#ed7953"
             ],
             [
              0.7777777777777778,
              "#fb9f3a"
             ],
             [
              0.8888888888888888,
              "#fdca26"
             ],
             [
              1,
              "#f0f921"
             ]
            ],
            "type": "surface"
           }
          ],
          "table": [
           {
            "cells": {
             "fill": {
              "color": "#EBF0F8"
             },
             "line": {
              "color": "white"
             }
            },
            "header": {
             "fill": {
              "color": "#C8D4E3"
             },
             "line": {
              "color": "white"
             }
            },
            "type": "table"
           }
          ]
         },
         "layout": {
          "annotationdefaults": {
           "arrowcolor": "#2a3f5f",
           "arrowhead": 0,
           "arrowwidth": 1
          },
          "autotypenumbers": "strict",
          "coloraxis": {
           "colorbar": {
            "outlinewidth": 0,
            "ticks": ""
           }
          },
          "colorscale": {
           "diverging": [
            [
             0,
             "#8e0152"
            ],
            [
             0.1,
             "#c51b7d"
            ],
            [
             0.2,
             "#de77ae"
            ],
            [
             0.3,
             "#f1b6da"
            ],
            [
             0.4,
             "#fde0ef"
            ],
            [
             0.5,
             "#f7f7f7"
            ],
            [
             0.6,
             "#e6f5d0"
            ],
            [
             0.7,
             "#b8e186"
            ],
            [
             0.8,
             "#7fbc41"
            ],
            [
             0.9,
             "#4d9221"
            ],
            [
             1,
             "#276419"
            ]
           ],
           "sequential": [
            [
             0,
             "#0d0887"
            ],
            [
             0.1111111111111111,
             "#46039f"
            ],
            [
             0.2222222222222222,
             "#7201a8"
            ],
            [
             0.3333333333333333,
             "#9c179e"
            ],
            [
             0.4444444444444444,
             "#bd3786"
            ],
            [
             0.5555555555555556,
             "#d8576b"
            ],
            [
             0.6666666666666666,
             "#ed7953"
            ],
            [
             0.7777777777777778,
             "#fb9f3a"
            ],
            [
             0.8888888888888888,
             "#fdca26"
            ],
            [
             1,
             "#f0f921"
            ]
           ],
           "sequentialminus": [
            [
             0,
             "#0d0887"
            ],
            [
             0.1111111111111111,
             "#46039f"
            ],
            [
             0.2222222222222222,
             "#7201a8"
            ],
            [
             0.3333333333333333,
             "#9c179e"
            ],
            [
             0.4444444444444444,
             "#bd3786"
            ],
            [
             0.5555555555555556,
             "#d8576b"
            ],
            [
             0.6666666666666666,
             "#ed7953"
            ],
            [
             0.7777777777777778,
             "#fb9f3a"
            ],
            [
             0.8888888888888888,
             "#fdca26"
            ],
            [
             1,
             "#f0f921"
            ]
           ]
          },
          "colorway": [
           "#636efa",
           "#EF553B",
           "#00cc96",
           "#ab63fa",
           "#FFA15A",
           "#19d3f3",
           "#FF6692",
           "#B6E880",
           "#FF97FF",
           "#FECB52"
          ],
          "font": {
           "color": "#2a3f5f"
          },
          "geo": {
           "bgcolor": "white",
           "lakecolor": "white",
           "landcolor": "#E5ECF6",
           "showlakes": true,
           "showland": true,
           "subunitcolor": "white"
          },
          "hoverlabel": {
           "align": "left"
          },
          "hovermode": "closest",
          "mapbox": {
           "style": "light"
          },
          "paper_bgcolor": "white",
          "plot_bgcolor": "#E5ECF6",
          "polar": {
           "angularaxis": {
            "gridcolor": "white",
            "linecolor": "white",
            "ticks": ""
           },
           "bgcolor": "#E5ECF6",
           "radialaxis": {
            "gridcolor": "white",
            "linecolor": "white",
            "ticks": ""
           }
          },
          "scene": {
           "xaxis": {
            "backgroundcolor": "#E5ECF6",
            "gridcolor": "white",
            "gridwidth": 2,
            "linecolor": "white",
            "showbackground": true,
            "ticks": "",
            "zerolinecolor": "white"
           },
           "yaxis": {
            "backgroundcolor": "#E5ECF6",
            "gridcolor": "white",
            "gridwidth": 2,
            "linecolor": "white",
            "showbackground": true,
            "ticks": "",
            "zerolinecolor": "white"
           },
           "zaxis": {
            "backgroundcolor": "#E5ECF6",
            "gridcolor": "white",
            "gridwidth": 2,
            "linecolor": "white",
            "showbackground": true,
            "ticks": "",
            "zerolinecolor": "white"
           }
          },
          "shapedefaults": {
           "line": {
            "color": "#2a3f5f"
           }
          },
          "ternary": {
           "aaxis": {
            "gridcolor": "white",
            "linecolor": "white",
            "ticks": ""
           },
           "baxis": {
            "gridcolor": "white",
            "linecolor": "white",
            "ticks": ""
           },
           "bgcolor": "#E5ECF6",
           "caxis": {
            "gridcolor": "white",
            "linecolor": "white",
            "ticks": ""
           }
          },
          "title": {
           "x": 0.05
          },
          "xaxis": {
           "automargin": true,
           "gridcolor": "white",
           "linecolor": "white",
           "ticks": "",
           "title": {
            "standoff": 15
           },
           "zerolinecolor": "white",
           "zerolinewidth": 2
          },
          "yaxis": {
           "automargin": true,
           "gridcolor": "white",
           "linecolor": "white",
           "ticks": "",
           "title": {
            "standoff": 15
           },
           "zerolinecolor": "white",
           "zerolinewidth": 2
          }
         }
        },
        "title": {
         "text": "t-student Probability Density Function",
         "x": 0.5
        },
        "xaxis": {
         "anchor": "y",
         "domain": [
          0,
          1
         ],
         "title": {
          "text": "x"
         }
        },
        "yaxis": {
         "anchor": "x",
         "domain": [
          0,
          1
         ],
         "title": {
          "text": "pdf"
         }
        }
       }
      }
     },
     "metadata": {},
     "output_type": "display_data"
    },
    {
     "name": "stdout",
     "output_type": "stream",
     "text": [
      "\n"
     ]
    },
    {
     "data": {
      "text/plain": [
       "TtestResult(statistic=np.float64(3.3349632905124063), pvalue=np.float64(0.0015987219490841197), df=np.float64(50.83784116232685))"
      ]
     },
     "execution_count": 5,
     "metadata": {},
     "output_type": "execute_result"
    }
   ],
   "source": [
    "#code here\n",
    "\n",
    "# Null hypothesis: H0 μ_Dragon ≤ μ_Grass (HP for Dragon-type is less than or equal to Grass-type.)\n",
    "# Alternative hypothesis (H₁): μ_Dragon > μ_Grass (HP for Dragon-type is greater than Grass-type.)\n",
    "\n",
    "alpha = 0.05 # 5% significance level\n",
    "\n",
    "dragon_hp = df[df[\"Type 1\"]=='Dragon'][\"HP\"]\n",
    "grass_hp = df[df[\"Type 1\"]=='Grass'][\"HP\"]\n",
    "\n",
    "dragon_hp_mean = dragon_hp.mean()\n",
    "grass_hp_mean = grass_hp.mean()\n",
    "\n",
    "dragon_hp_std = dragon_hp.std(ddof=1)\n",
    "grass_hp_std = grass_hp.std(ddof=1)\n",
    "\n",
    "n1 = len(dragon_hp)\n",
    "n2 = len(grass_hp)\n",
    "\n",
    "statistic = (dragon_hp_mean - grass_hp_mean) / np.sqrt( (dragon_hp_std**2/n1) + (grass_hp_std**2/n2))\n",
    "print(statistic)\n",
    "print()\n",
    "show_statistical_test(statistic, alpha, n1+n2-2, distribution=\"t-student\", alternative=\"two-sided\")\n",
    "print()\n",
    "st.ttest_ind(dragon_hp, grass_hp, equal_var=False, alternative=\"two-sided\")"
   ]
  },
  {
   "cell_type": "markdown",
   "metadata": {},
   "source": [
    "Comment: With a p-value < 0.05, we reject the null hypothesis. This means there is statistically significant evidence, at the 5% level, that Dragon-type Pokemons have higher HP than Grass-type Pokemons."
   ]
  },
  {
   "cell_type": "code",
   "execution_count": 6,
   "metadata": {},
   "outputs": [
    {
     "name": "stdout",
     "output_type": "stream",
     "text": [
      "T-statistic: 3.3350\n",
      "Two-sided p-value: 0.0016\n",
      "One-sided p-value: 0.0008\n"
     ]
    }
   ],
   "source": [
    "# Perform independent t-test (one-sided, Dragon > Grass)\n",
    "# By default, scipy's ttest_ind does two-sided. For one-sided, divide p-value by 2 and check the direction.\n",
    "t_stat, p_value_two_sided = st.ttest_ind(dragon_hp, grass_hp, equal_var=False)\n",
    "\n",
    "# Adjust for one-sided test\n",
    "if t_stat > 0:\n",
    "    p_value_one_sided = p_value_two_sided / 2\n",
    "else:\n",
    "    p_value_one_sided = 1 - (p_value_two_sided / 2)\n",
    "\n",
    "print(f\"T-statistic: {t_stat:.4f}\")\n",
    "print(f\"Two-sided p-value: {p_value_two_sided:.4f}\")\n",
    "print(f\"One-sided p-value: {p_value_one_sided:.4f}\")"
   ]
  },
  {
   "cell_type": "markdown",
   "metadata": {},
   "source": [
    "- We posit that Legendary Pokemons have different stats (HP, Attack, Defense, Sp.Atk, Sp.Def, Speed) when comparing with Non-Legendary. Choose the propper test and, with 5% significance, comment your findings.\n"
   ]
  },
  {
   "cell_type": "code",
   "execution_count": 14,
   "metadata": {},
   "outputs": [
    {
     "name": "stdout",
     "output_type": "stream",
     "text": [
      "Stat HP 8.981370483625048\n",
      "Stat Attack 10.438133539322205\n",
      "Stat Defense 7.637078164784619\n",
      "Stat Sp. Atk 13.417449984138461\n",
      "Stat Sp. Def 10.015696613114878\n",
      "Stat Speed 11.475044446314431\n",
      "     Group  Mean Legendary  Mean Non-Legendary     T-stat       p-value  \\\n",
      "0       HP       92.738462           67.182313   8.981370  1.002691e-13   \n",
      "1   Attack      116.676923           75.669388  10.438134  2.520372e-16   \n",
      "2  Defense       99.661538           71.559184   7.637078  4.826998e-11   \n",
      "3  Sp. Atk      122.184615           68.454422  13.417450  1.551461e-21   \n",
      "4  Sp. Def      105.938462           68.892517  10.015697  2.294933e-15   \n",
      "5    Speed      100.184615           65.455782  11.475044  1.049016e-18   \n",
      "\n",
      "  Conclusion (alpha=0.05)  \n",
      "0  Reject H₀ (difference)  \n",
      "1  Reject H₀ (difference)  \n",
      "2  Reject H₀ (difference)  \n",
      "3  Reject H₀ (difference)  \n",
      "4  Reject H₀ (difference)  \n",
      "5  Reject H₀ (difference)  \n"
     ]
    }
   ],
   "source": [
    "#code here\n",
    "\n",
    "# Null hypothesis: H0 μ_Legendary = μ_Non-Legenday\n",
    "# Alternative hypothesis (H₁): μ_Legendary != μ_Non-Legenday\n",
    "\n",
    "df = pd.read_csv(\"https://raw.githubusercontent.com/data-bootcamp-v4/data/main/pokemon.csv\")\n",
    "\n",
    "# alpha = 0.05 # 5% significance level\n",
    "\n",
    "def compare_stats_ttest(df1, df2, cols=[\"HP\", \"Attack\", \"Defense\", \"Sp. Atk\", \"Sp. Def\", \"Speed\"], alpha=0.05):\n",
    "    results = []\n",
    "    for col in cols:\n",
    "        group1 = df1[col].dropna()\n",
    "        group2 = df2[col].dropna()\n",
    "\n",
    "        group1_mean = df1[col].mean()\n",
    "        group2_mean = df2[col].mean()\n",
    "        \n",
    "        group1_std = df1[col].std(ddof=1)\n",
    "        group2_std = df2[col].std(ddof=1)\n",
    "        \n",
    "        n1 = len(group1)\n",
    "        n2 = len(group2)\n",
    "\n",
    "        stat = (group1_mean - group2_mean) / np.sqrt( (group1_std**2/n1) + (group2_std**2/n2))\n",
    "        print(f\"Stat {col} {stat}\")\n",
    "        #show_statistical_test(stat, alpha, n1+n2-2, distribution=\"t-student\", alternative=\"two-sided\")\n",
    "        \n",
    "        t_stat, p_val = st.ttest_ind(group1, group2, equal_var=False)\n",
    "        st.ttest_ind(group1, group2, equal_var=False, alternative=\"two-sided\")\n",
    "\n",
    "        conclusion = \"Reject H₀ (difference)\" if p_val < alpha else \"Fail to reject H₀ (no difference)\"\n",
    "        results.append({\n",
    "            \"Group\": col,\n",
    "            \"Mean Legendary\": group1_mean,\n",
    "            \"Mean Non-Legendary\": group2_mean,\n",
    "            \"T-stat\": t_stat,\n",
    "            \"p-value\": p_val,\n",
    "            \"Conclusion (alpha=0.05)\": conclusion\n",
    "        })\n",
    "    return pd.DataFrame(results)\n",
    "\n",
    "legendary_df = df[df[\"Legendary\"] == True]\n",
    "nonlegendary_df = df[df[\"Legendary\"] == False]\n",
    "\n",
    "# Run the function\n",
    "summary = compare_stats_ttest(legendary_df, nonlegendary_df)\n",
    "print(summary)"
   ]
  },
  {
   "cell_type": "code",
   "execution_count": 11,
   "metadata": {},
   "outputs": [
    {
     "name": "stdout",
     "output_type": "stream",
     "text": [
      "8.981370483625048\n",
      "\n"
     ]
    },
    {
     "data": {
      "application/vnd.plotly.v1+json": {
       "config": {
        "plotlyServerURL": "https://plot.ly"
       },
       "data": [
        {
         "hovertemplate": "x=%{x}<br>pdf=%{y}<extra></extra>",
         "legendgroup": "",
         "line": {
          "color": "#636efa",
          "dash": "solid"
         },
         "marker": {
          "symbol": "circle"
         },
         "mode": "lines",
         "name": "",
         "orientation": "v",
         "showlegend": false,
         "type": "scatter",
         "x": {
          "bdata": "AAAAAAAACMDByyl4OQUHwIOXU/ByCgbARGN9aKwPBcAFL6fg5RQEwMb60FgfGgPAiMb60FgfAsBJkiRJkiQBwApeTsHLKQDAmFPwcgpe/r8a60NjfWj8v52Cl1Pwcvq/IBrrQ2N9+L+isT401of2vyVJkiRJkvS/p+DlFLyc8r8qeDkFL6fwv1gfGutDY+2/YE7Byyl46b9kfWisD43lv2isD431oeG/4LZt27Zt27/oFLycgpfTv+DlFLycgse/AIjG+tBYr7/Ah8b60FivP+DlFLycgsc/6BS8nIKX0z/Ytm3btm3bP2isD431oeE/ZH1orA+N5T9cTsHLKXjpP1gfGutDY+0/KHg5BS+n8D+o4OUUvJzyPyRJkiRJkvQ/oLE+NNaH9j8gGutDY334P5yCl1Pwcvo/GOtDY31o/D+YU/ByCl7+PwpeTsHLKQBASJIkSZIkAUCIxvrQWB8CQMb60FgfGgNABC+n4OUUBEBEY31orA8FQIKXU/ByCgZAwMspeDkFB0AAAAAAAAAIQA==",
          "dtype": "f8"
         },
         "xaxis": "x",
         "y": {
          "bdata": "MeCqiqSBcj9j38hLdG56P96dOaM5moI/gcwEPDXOiT+cZydykaORP+OGzOs+w5c/TZeLBaOLnz/u+sQh76GkP8KU/N0tmKo/FsgnwFTjsD9Z4cpCFSK1P65iOOtQDro/7brX38+mvz8Nk73Ix/DCP5vj2XVCVcY/MCgFL3fxyT/Yo2aesbDNP1YsnEqwvNA/qkiROQGX0j9RUPjqQFfUP65lU/337NU/6Mq22D5I1z93YKHdxFrYPzV/Q8LKGNk/segPUPh52T+x6A9Q+HnZPzV/Q8LKGNk/d2Ch3cRa2D/pyrbYPkjXP65lU/337NU/UVD46kBX1D+sSJE5AZfSP1YsnEqwvNA/26NmnrGwzT8sKAUvd/HJP53j2XVCVcY/EZO9yMfwwj/tutffz6a/P7FiOOtQDro/X+HKQhUitT8WyCfAVOOwP8KU/N0tmKo/8/rEIe+hpD9Nl4sFo4ufP+OGzOs+w5c/oGcncpGjkT+BzAQ8Nc6JP+edOaM5moI/cN/IS3Ruej8x4KqKpIFyPw==",
          "dtype": "f8"
         },
         "yaxis": "y"
        },
        {
         "fill": "tozeroy",
         "fillcolor": "red",
         "mode": "none",
         "type": "scatter",
         "x": {
          "bdata": "AAAAAAAACMD2rsfDp9QHwOxdj4dPqQfA4wxXS/d9B8DZux4Pn1IHwM9q5tJGJwfAxRmulu77BsC7yHValtAGwLJ3PR4+pQbAqCYF4uV5BsCe1cyljU4GwJSElGk1IwbAijNcLd33BcCB4iPxhMwFwHeR67QsoQXAbUCzeNR1BcBj73o8fEoFwFqeQgAkHwXAUE0KxMvzBMBG/NGHc8gEwDyrmUsbnQTAMlphD8NxBMAoCSnTakYEwB+48JYSGwTAFWe4WrrvA8ALFoAeYsQDwAHFR+IJmQPA+HMPprFtA8DuItdpWUIDwOTRni0BFwPA2oBm8ajrAsDQLy61UMACwMbe9Xj4lALAvY29PKBpAsCzPIUASD4CwKnrTMTvEgLAn5oUiJfnAcCWSdxLP7wBwIz4ow/nkAHAgqdr045lAcB4VjOXNjoBwG4F+1reDgHAZLTCHobjAMBbY4riLbgAwFESUqbVjADAR8EZan1hAMA9cOEtJTYAwDQfqfHMCgDAVJzhaum+/79A+nDyOGj/vw==",
          "dtype": "f8"
         },
         "y": {
          "bdata": "MeCqiqSBcj/TSql27rNzP4ZjcmGx93Q/J3DO6MFNdj/Hakzr+7Z3P8e7XZhCNHk/VZEsfYDGej9m9u2Np258PxKrbyuxLX4/P2RQEk8CgD9RuelZO/qAP/Cgujsl/4E/Adb9MpgRgz9HxWBeIzKEP5p4yXRZYYU/P2tSt9Cfhj/rVlvgIu6HP9h1jg/tTIk/2ky6ss+8ij9nymBrbj6MP8xt3fBv0o0/QzYF7315jz/ZKZJwIpqQP7R8n/S5gZE/wSK+Ud5zkj9t+dF66XCTP7O9TG02eZQ/m7ngFCGNlT8BGiAtBq2WP+q5ASFD2Zc/golF6DUSmT+UJ7TiPFiaP6DNNrG2q5s/S07GDAINnT+vnTGbfXyePzwovsGH+p8/6w/TOr/DoD+Xbz2F35GhP9bGOf/SZ6I/jyZZYsdFoz9FNMbG6SukPyAdcoZmGqU/CeZSH2kRpj9ExrwUHBGnP3Fs4c+oGag/L0KBfzcrqT/i/Nv27kWqP8oD74v0aas/iG8R9WuXrD9iof4ld86tPw==",
          "dtype": "f8"
         }
        },
        {
         "fill": "tozeroy",
         "fillcolor": "red",
         "mode": "none",
         "type": "scatter",
         "x": {
          "bdata": "Pvpw8jho/z9SnOFq6b7/PzMfqfHMCgBAPHDhLSU2AEBGwRlqfWEAQFASUqbVjABAWmOK4i24AEBktMIehuMAQG4F+1reDgFAd1YzlzY6AUCBp2vTjmUBQIv4ow/nkAFAlUncSz+8AUCemhSIl+cBQKjrTMTvEgJAsjyFAEg+AkC8jb08oGkCQMbe9Xj4lAJA0C8utVDAAkDagGbxqOsCQOPRni0BFwNA7SLXaVlCA0D3cw+msW0DQAHFR+IJmQNAChaAHmLEA0AUZ7hauu8DQB648JYSGwRAKAkp02pGBEAyWmEPw3EEQDyrmUsbnQRARvzRh3PIBEBPTQrEy/MEQFmeQgAkHwVAY+96PHxKBUBsQLN41HUFQHaR67QsoQVAgOIj8YTMBUCKM1wt3fcFQJSElGk1IwZAntXMpY1OBkCoJgXi5XkGQLF3PR4+pQZAu8h1WpbQBkDFGa6W7vsGQM9q5tJGJwdA2LseD59SB0DiDFdL930HQOxdj4dPqQdA9q7Hw6fUB0AAAAAAAAAIQA==",
          "dtype": "f8"
         },
         "y": {
          "bdata": "aaH+JXfOrT+PbxH1a5esP9QD74v0aas/6Pzb9u5Fqj81QoF/NyupP3Rs4c+oGag/Sca8FBwRpz8J5lIfaRGmPyAdcoZmGqU/SDTGxukrpD+WJllix0WjP9vGOf/SZ6I/m289hd+RoT/yD9M6v8OgP0QovsGH+p8/t50xm318nj9STsYMAg2dP6DNNrG2q5s/lCe04jxYmj+CiUXoNRKZP/a5ASFD2Zc/BhogLQatlj+gueAUIY2VP7O9TG02eZQ/cvnReulwkz/FIr5R3nOSP7R8n/S5gZE/2SmScCKakD9DNgXvfXmPP8xt3fBv0o0/Z8pga24+jD/nTLqyz7yKP+V1jg/tTIk/61Zb4CLuhz9Ka1K30J+GP594yXRZYYU/UcVgXiMyhD8B1v0ymBGDP/Cgujsl/4E/UbnpWTv6gD8/ZFASTwKAPyGrbyuxLX4/ZvbtjadufD9VkSx9gMZ6P8e7XZhCNHk/x2pM6/u2dz8ncM7owU12P4ZjcmGx93Q/00qpdu6zcz8x4KqKpIFyPw==",
          "dtype": "f8"
         }
        }
       ],
       "layout": {
        "annotations": [
         {
          "text": "Lower critical value -1.96",
          "x": -1.9629449339260105,
          "xref": "x",
          "y": 0,
          "yanchor": "bottom",
          "yref": "paper"
         },
         {
          "text": "Upper critical value  1.96",
          "x": 1.96294493392601,
          "xref": "x",
          "y": 0,
          "yanchor": "bottom",
          "yref": "paper"
         },
         {
          "text": "Statistic  8.98",
          "x": 8.981370483625048,
          "xref": "x",
          "y": 0,
          "yanchor": "bottom",
          "yref": "paper"
         }
        ],
        "legend": {
         "tracegroupgap": 0
        },
        "shapes": [
         {
          "line": {
           "color": "red"
          },
          "type": "line",
          "x0": -1.9629449339260105,
          "x1": -1.9629449339260105,
          "xref": "x",
          "y0": 0,
          "y1": 1,
          "yref": "y domain"
         },
         {
          "line": {
           "color": "red"
          },
          "type": "line",
          "x0": 1.96294493392601,
          "x1": 1.96294493392601,
          "xref": "x",
          "y0": 0,
          "y1": 1,
          "yref": "y domain"
         },
         {
          "type": "line",
          "x0": 8.981370483625048,
          "x1": 8.981370483625048,
          "xref": "x",
          "y0": 0,
          "y1": 1,
          "yref": "y domain"
         }
        ],
        "showlegend": false,
        "template": {
         "data": {
          "bar": [
           {
            "error_x": {
             "color": "#2a3f5f"
            },
            "error_y": {
             "color": "#2a3f5f"
            },
            "marker": {
             "line": {
              "color": "#E5ECF6",
              "width": 0.5
             },
             "pattern": {
              "fillmode": "overlay",
              "size": 10,
              "solidity": 0.2
             }
            },
            "type": "bar"
           }
          ],
          "barpolar": [
           {
            "marker": {
             "line": {
              "color": "#E5ECF6",
              "width": 0.5
             },
             "pattern": {
              "fillmode": "overlay",
              "size": 10,
              "solidity": 0.2
             }
            },
            "type": "barpolar"
           }
          ],
          "carpet": [
           {
            "aaxis": {
             "endlinecolor": "#2a3f5f",
             "gridcolor": "white",
             "linecolor": "white",
             "minorgridcolor": "white",
             "startlinecolor": "#2a3f5f"
            },
            "baxis": {
             "endlinecolor": "#2a3f5f",
             "gridcolor": "white",
             "linecolor": "white",
             "minorgridcolor": "white",
             "startlinecolor": "#2a3f5f"
            },
            "type": "carpet"
           }
          ],
          "choropleth": [
           {
            "colorbar": {
             "outlinewidth": 0,
             "ticks": ""
            },
            "type": "choropleth"
           }
          ],
          "contour": [
           {
            "colorbar": {
             "outlinewidth": 0,
             "ticks": ""
            },
            "colorscale": [
             [
              0,
              "#0d0887"
             ],
             [
              0.1111111111111111,
              "#46039f"
             ],
             [
              0.2222222222222222,
              "#7201a8"
             ],
             [
              0.3333333333333333,
              "#9c179e"
             ],
             [
              0.4444444444444444,
              "#bd3786"
             ],
             [
              0.5555555555555556,
              "#d8576b"
             ],
             [
              0.6666666666666666,
              "#ed7953"
             ],
             [
              0.7777777777777778,
              "#fb9f3a"
             ],
             [
              0.8888888888888888,
              "#fdca26"
             ],
             [
              1,
              "#f0f921"
             ]
            ],
            "type": "contour"
           }
          ],
          "contourcarpet": [
           {
            "colorbar": {
             "outlinewidth": 0,
             "ticks": ""
            },
            "type": "contourcarpet"
           }
          ],
          "heatmap": [
           {
            "colorbar": {
             "outlinewidth": 0,
             "ticks": ""
            },
            "colorscale": [
             [
              0,
              "#0d0887"
             ],
             [
              0.1111111111111111,
              "#46039f"
             ],
             [
              0.2222222222222222,
              "#7201a8"
             ],
             [
              0.3333333333333333,
              "#9c179e"
             ],
             [
              0.4444444444444444,
              "#bd3786"
             ],
             [
              0.5555555555555556,
              "#d8576b"
             ],
             [
              0.6666666666666666,
              "#ed7953"
             ],
             [
              0.7777777777777778,
              "#fb9f3a"
             ],
             [
              0.8888888888888888,
              "#fdca26"
             ],
             [
              1,
              "#f0f921"
             ]
            ],
            "type": "heatmap"
           }
          ],
          "histogram": [
           {
            "marker": {
             "pattern": {
              "fillmode": "overlay",
              "size": 10,
              "solidity": 0.2
             }
            },
            "type": "histogram"
           }
          ],
          "histogram2d": [
           {
            "colorbar": {
             "outlinewidth": 0,
             "ticks": ""
            },
            "colorscale": [
             [
              0,
              "#0d0887"
             ],
             [
              0.1111111111111111,
              "#46039f"
             ],
             [
              0.2222222222222222,
              "#7201a8"
             ],
             [
              0.3333333333333333,
              "#9c179e"
             ],
             [
              0.4444444444444444,
              "#bd3786"
             ],
             [
              0.5555555555555556,
              "#d8576b"
             ],
             [
              0.6666666666666666,
              "#ed7953"
             ],
             [
              0.7777777777777778,
              "#fb9f3a"
             ],
             [
              0.8888888888888888,
              "#fdca26"
             ],
             [
              1,
              "#f0f921"
             ]
            ],
            "type": "histogram2d"
           }
          ],
          "histogram2dcontour": [
           {
            "colorbar": {
             "outlinewidth": 0,
             "ticks": ""
            },
            "colorscale": [
             [
              0,
              "#0d0887"
             ],
             [
              0.1111111111111111,
              "#46039f"
             ],
             [
              0.2222222222222222,
              "#7201a8"
             ],
             [
              0.3333333333333333,
              "#9c179e"
             ],
             [
              0.4444444444444444,
              "#bd3786"
             ],
             [
              0.5555555555555556,
              "#d8576b"
             ],
             [
              0.6666666666666666,
              "#ed7953"
             ],
             [
              0.7777777777777778,
              "#fb9f3a"
             ],
             [
              0.8888888888888888,
              "#fdca26"
             ],
             [
              1,
              "#f0f921"
             ]
            ],
            "type": "histogram2dcontour"
           }
          ],
          "mesh3d": [
           {
            "colorbar": {
             "outlinewidth": 0,
             "ticks": ""
            },
            "type": "mesh3d"
           }
          ],
          "parcoords": [
           {
            "line": {
             "colorbar": {
              "outlinewidth": 0,
              "ticks": ""
             }
            },
            "type": "parcoords"
           }
          ],
          "pie": [
           {
            "automargin": true,
            "type": "pie"
           }
          ],
          "scatter": [
           {
            "fillpattern": {
             "fillmode": "overlay",
             "size": 10,
             "solidity": 0.2
            },
            "type": "scatter"
           }
          ],
          "scatter3d": [
           {
            "line": {
             "colorbar": {
              "outlinewidth": 0,
              "ticks": ""
             }
            },
            "marker": {
             "colorbar": {
              "outlinewidth": 0,
              "ticks": ""
             }
            },
            "type": "scatter3d"
           }
          ],
          "scattercarpet": [
           {
            "marker": {
             "colorbar": {
              "outlinewidth": 0,
              "ticks": ""
             }
            },
            "type": "scattercarpet"
           }
          ],
          "scattergeo": [
           {
            "marker": {
             "colorbar": {
              "outlinewidth": 0,
              "ticks": ""
             }
            },
            "type": "scattergeo"
           }
          ],
          "scattergl": [
           {
            "marker": {
             "colorbar": {
              "outlinewidth": 0,
              "ticks": ""
             }
            },
            "type": "scattergl"
           }
          ],
          "scattermap": [
           {
            "marker": {
             "colorbar": {
              "outlinewidth": 0,
              "ticks": ""
             }
            },
            "type": "scattermap"
           }
          ],
          "scattermapbox": [
           {
            "marker": {
             "colorbar": {
              "outlinewidth": 0,
              "ticks": ""
             }
            },
            "type": "scattermapbox"
           }
          ],
          "scatterpolar": [
           {
            "marker": {
             "colorbar": {
              "outlinewidth": 0,
              "ticks": ""
             }
            },
            "type": "scatterpolar"
           }
          ],
          "scatterpolargl": [
           {
            "marker": {
             "colorbar": {
              "outlinewidth": 0,
              "ticks": ""
             }
            },
            "type": "scatterpolargl"
           }
          ],
          "scatterternary": [
           {
            "marker": {
             "colorbar": {
              "outlinewidth": 0,
              "ticks": ""
             }
            },
            "type": "scatterternary"
           }
          ],
          "surface": [
           {
            "colorbar": {
             "outlinewidth": 0,
             "ticks": ""
            },
            "colorscale": [
             [
              0,
              "#0d0887"
             ],
             [
              0.1111111111111111,
              "#46039f"
             ],
             [
              0.2222222222222222,
              "#7201a8"
             ],
             [
              0.3333333333333333,
              "#9c179e"
             ],
             [
              0.4444444444444444,
              "#bd3786"
             ],
             [
              0.5555555555555556,
              "#d8576b"
             ],
             [
              0.6666666666666666,
              "#ed7953"
             ],
             [
              0.7777777777777778,
              "#fb9f3a"
             ],
             [
              0.8888888888888888,
              "#fdca26"
             ],
             [
              1,
              "#f0f921"
             ]
            ],
            "type": "surface"
           }
          ],
          "table": [
           {
            "cells": {
             "fill": {
              "color": "#EBF0F8"
             },
             "line": {
              "color": "white"
             }
            },
            "header": {
             "fill": {
              "color": "#C8D4E3"
             },
             "line": {
              "color": "white"
             }
            },
            "type": "table"
           }
          ]
         },
         "layout": {
          "annotationdefaults": {
           "arrowcolor": "#2a3f5f",
           "arrowhead": 0,
           "arrowwidth": 1
          },
          "autotypenumbers": "strict",
          "coloraxis": {
           "colorbar": {
            "outlinewidth": 0,
            "ticks": ""
           }
          },
          "colorscale": {
           "diverging": [
            [
             0,
             "#8e0152"
            ],
            [
             0.1,
             "#c51b7d"
            ],
            [
             0.2,
             "#de77ae"
            ],
            [
             0.3,
             "#f1b6da"
            ],
            [
             0.4,
             "#fde0ef"
            ],
            [
             0.5,
             "#f7f7f7"
            ],
            [
             0.6,
             "#e6f5d0"
            ],
            [
             0.7,
             "#b8e186"
            ],
            [
             0.8,
             "#7fbc41"
            ],
            [
             0.9,
             "#4d9221"
            ],
            [
             1,
             "#276419"
            ]
           ],
           "sequential": [
            [
             0,
             "#0d0887"
            ],
            [
             0.1111111111111111,
             "#46039f"
            ],
            [
             0.2222222222222222,
             "#7201a8"
            ],
            [
             0.3333333333333333,
             "#9c179e"
            ],
            [
             0.4444444444444444,
             "#bd3786"
            ],
            [
             0.5555555555555556,
             "#d8576b"
            ],
            [
             0.6666666666666666,
             "#ed7953"
            ],
            [
             0.7777777777777778,
             "#fb9f3a"
            ],
            [
             0.8888888888888888,
             "#fdca26"
            ],
            [
             1,
             "#f0f921"
            ]
           ],
           "sequentialminus": [
            [
             0,
             "#0d0887"
            ],
            [
             0.1111111111111111,
             "#46039f"
            ],
            [
             0.2222222222222222,
             "#7201a8"
            ],
            [
             0.3333333333333333,
             "#9c179e"
            ],
            [
             0.4444444444444444,
             "#bd3786"
            ],
            [
             0.5555555555555556,
             "#d8576b"
            ],
            [
             0.6666666666666666,
             "#ed7953"
            ],
            [
             0.7777777777777778,
             "#fb9f3a"
            ],
            [
             0.8888888888888888,
             "#fdca26"
            ],
            [
             1,
             "#f0f921"
            ]
           ]
          },
          "colorway": [
           "#636efa",
           "#EF553B",
           "#00cc96",
           "#ab63fa",
           "#FFA15A",
           "#19d3f3",
           "#FF6692",
           "#B6E880",
           "#FF97FF",
           "#FECB52"
          ],
          "font": {
           "color": "#2a3f5f"
          },
          "geo": {
           "bgcolor": "white",
           "lakecolor": "white",
           "landcolor": "#E5ECF6",
           "showlakes": true,
           "showland": true,
           "subunitcolor": "white"
          },
          "hoverlabel": {
           "align": "left"
          },
          "hovermode": "closest",
          "mapbox": {
           "style": "light"
          },
          "paper_bgcolor": "white",
          "plot_bgcolor": "#E5ECF6",
          "polar": {
           "angularaxis": {
            "gridcolor": "white",
            "linecolor": "white",
            "ticks": ""
           },
           "bgcolor": "#E5ECF6",
           "radialaxis": {
            "gridcolor": "white",
            "linecolor": "white",
            "ticks": ""
           }
          },
          "scene": {
           "xaxis": {
            "backgroundcolor": "#E5ECF6",
            "gridcolor": "white",
            "gridwidth": 2,
            "linecolor": "white",
            "showbackground": true,
            "ticks": "",
            "zerolinecolor": "white"
           },
           "yaxis": {
            "backgroundcolor": "#E5ECF6",
            "gridcolor": "white",
            "gridwidth": 2,
            "linecolor": "white",
            "showbackground": true,
            "ticks": "",
            "zerolinecolor": "white"
           },
           "zaxis": {
            "backgroundcolor": "#E5ECF6",
            "gridcolor": "white",
            "gridwidth": 2,
            "linecolor": "white",
            "showbackground": true,
            "ticks": "",
            "zerolinecolor": "white"
           }
          },
          "shapedefaults": {
           "line": {
            "color": "#2a3f5f"
           }
          },
          "ternary": {
           "aaxis": {
            "gridcolor": "white",
            "linecolor": "white",
            "ticks": ""
           },
           "baxis": {
            "gridcolor": "white",
            "linecolor": "white",
            "ticks": ""
           },
           "bgcolor": "#E5ECF6",
           "caxis": {
            "gridcolor": "white",
            "linecolor": "white",
            "ticks": ""
           }
          },
          "title": {
           "x": 0.05
          },
          "xaxis": {
           "automargin": true,
           "gridcolor": "white",
           "linecolor": "white",
           "ticks": "",
           "title": {
            "standoff": 15
           },
           "zerolinecolor": "white",
           "zerolinewidth": 2
          },
          "yaxis": {
           "automargin": true,
           "gridcolor": "white",
           "linecolor": "white",
           "ticks": "",
           "title": {
            "standoff": 15
           },
           "zerolinecolor": "white",
           "zerolinewidth": 2
          }
         }
        },
        "title": {
         "text": "t-student Probability Density Function",
         "x": 0.5
        },
        "xaxis": {
         "anchor": "y",
         "domain": [
          0,
          1
         ],
         "title": {
          "text": "x"
         }
        },
        "yaxis": {
         "anchor": "x",
         "domain": [
          0,
          1
         ],
         "title": {
          "text": "pdf"
         }
        }
       }
      }
     },
     "metadata": {},
     "output_type": "display_data"
    },
    {
     "name": "stdout",
     "output_type": "stream",
     "text": [
      "\n"
     ]
    },
    {
     "data": {
      "text/plain": [
       "TtestResult(statistic=np.float64(8.981370483625046), pvalue=np.float64(1.0026911708035284e-13), df=np.float64(79.52467830799894))"
      ]
     },
     "execution_count": 11,
     "metadata": {},
     "output_type": "execute_result"
    }
   ],
   "source": [
    "alpha = 0.05 # 5% significance level\n",
    "\n",
    "df = pd.read_csv(\"https://raw.githubusercontent.com/data-bootcamp-v4/data/main/pokemon.csv\")\n",
    "\n",
    "leg_hp = df[df[\"Legendary\"] == True][\"HP\"]\n",
    "nonleg_hp = df[df[\"Legendary\"] == False][\"HP\"]\n",
    "\n",
    "leg_hp_mean = leg_hp.mean()\n",
    "nonleg_hp_mean = nonleg_hp.mean()\n",
    "\n",
    "leg_hp_std = leg_hp.std(ddof=1)\n",
    "nonleg_hp_std = nonleg_hp.std(ddof=1)\n",
    "\n",
    "n1 = len(leg_hp)\n",
    "n2 = len(nonleg_hp)\n",
    "\n",
    "statistic = (leg_hp_mean - nonleg_hp_mean) / np.sqrt( (leg_hp_std**2/n1) + (nonleg_hp_std**2/n2))\n",
    "print(statistic)\n",
    "print()\n",
    "show_statistical_test(statistic, alpha, n1+n2-2, distribution=\"t-student\", alternative=\"two-sided\")\n",
    "print()\n",
    "st.ttest_ind(leg_hp, nonleg_hp, equal_var=False, alternative=\"two-sided\")"
   ]
  },
  {
   "cell_type": "markdown",
   "metadata": {},
   "source": [
    "Comment:\n",
    "Using independent two-sample t-tests for each stat (HP, Attack, Defense, Sp.Atk, Sp.Def, Speed), we compared Legendary and Non-Legendary Pokemons. For each stat, if the p-value is less than 0.05, we conclude there is a statistically significant difference between the two groups for that stat. The summary table above shows which stats are significantly different at the 5% significance level."
   ]
  },
  {
   "cell_type": "markdown",
   "metadata": {},
   "source": [
    "**Challenge 2**"
   ]
  },
  {
   "cell_type": "markdown",
   "metadata": {},
   "source": [
    "In this challenge, we will be working with california-housing data. The data can be found here:\n",
    "- https://raw.githubusercontent.com/data-bootcamp-v4/data/main/california_housing.csv"
   ]
  },
  {
   "cell_type": "code",
   "execution_count": 15,
   "metadata": {},
   "outputs": [
    {
     "data": {
      "application/vnd.microsoft.datawrangler.viewer.v0+json": {
       "columns": [
        {
         "name": "index",
         "rawType": "int64",
         "type": "integer"
        },
        {
         "name": "longitude",
         "rawType": "float64",
         "type": "float"
        },
        {
         "name": "latitude",
         "rawType": "float64",
         "type": "float"
        },
        {
         "name": "housing_median_age",
         "rawType": "float64",
         "type": "float"
        },
        {
         "name": "total_rooms",
         "rawType": "float64",
         "type": "float"
        },
        {
         "name": "total_bedrooms",
         "rawType": "float64",
         "type": "float"
        },
        {
         "name": "population",
         "rawType": "float64",
         "type": "float"
        },
        {
         "name": "households",
         "rawType": "float64",
         "type": "float"
        },
        {
         "name": "median_income",
         "rawType": "float64",
         "type": "float"
        },
        {
         "name": "median_house_value",
         "rawType": "float64",
         "type": "float"
        }
       ],
       "ref": "227aea21-7ea4-48f0-8fb3-4c5ed646c19b",
       "rows": [
        [
         "0",
         "-114.31",
         "34.19",
         "15.0",
         "5612.0",
         "1283.0",
         "1015.0",
         "472.0",
         "1.4936",
         "66900.0"
        ],
        [
         "1",
         "-114.47",
         "34.4",
         "19.0",
         "7650.0",
         "1901.0",
         "1129.0",
         "463.0",
         "1.82",
         "80100.0"
        ],
        [
         "2",
         "-114.56",
         "33.69",
         "17.0",
         "720.0",
         "174.0",
         "333.0",
         "117.0",
         "1.6509",
         "85700.0"
        ],
        [
         "3",
         "-114.57",
         "33.64",
         "14.0",
         "1501.0",
         "337.0",
         "515.0",
         "226.0",
         "3.1917",
         "73400.0"
        ],
        [
         "4",
         "-114.57",
         "33.57",
         "20.0",
         "1454.0",
         "326.0",
         "624.0",
         "262.0",
         "1.925",
         "65500.0"
        ]
       ],
       "shape": {
        "columns": 9,
        "rows": 5
       }
      },
      "text/html": [
       "<div>\n",
       "<style scoped>\n",
       "    .dataframe tbody tr th:only-of-type {\n",
       "        vertical-align: middle;\n",
       "    }\n",
       "\n",
       "    .dataframe tbody tr th {\n",
       "        vertical-align: top;\n",
       "    }\n",
       "\n",
       "    .dataframe thead th {\n",
       "        text-align: right;\n",
       "    }\n",
       "</style>\n",
       "<table border=\"1\" class=\"dataframe\">\n",
       "  <thead>\n",
       "    <tr style=\"text-align: right;\">\n",
       "      <th></th>\n",
       "      <th>longitude</th>\n",
       "      <th>latitude</th>\n",
       "      <th>housing_median_age</th>\n",
       "      <th>total_rooms</th>\n",
       "      <th>total_bedrooms</th>\n",
       "      <th>population</th>\n",
       "      <th>households</th>\n",
       "      <th>median_income</th>\n",
       "      <th>median_house_value</th>\n",
       "    </tr>\n",
       "  </thead>\n",
       "  <tbody>\n",
       "    <tr>\n",
       "      <th>0</th>\n",
       "      <td>-114.31</td>\n",
       "      <td>34.19</td>\n",
       "      <td>15.0</td>\n",
       "      <td>5612.0</td>\n",
       "      <td>1283.0</td>\n",
       "      <td>1015.0</td>\n",
       "      <td>472.0</td>\n",
       "      <td>1.4936</td>\n",
       "      <td>66900.0</td>\n",
       "    </tr>\n",
       "    <tr>\n",
       "      <th>1</th>\n",
       "      <td>-114.47</td>\n",
       "      <td>34.40</td>\n",
       "      <td>19.0</td>\n",
       "      <td>7650.0</td>\n",
       "      <td>1901.0</td>\n",
       "      <td>1129.0</td>\n",
       "      <td>463.0</td>\n",
       "      <td>1.8200</td>\n",
       "      <td>80100.0</td>\n",
       "    </tr>\n",
       "    <tr>\n",
       "      <th>2</th>\n",
       "      <td>-114.56</td>\n",
       "      <td>33.69</td>\n",
       "      <td>17.0</td>\n",
       "      <td>720.0</td>\n",
       "      <td>174.0</td>\n",
       "      <td>333.0</td>\n",
       "      <td>117.0</td>\n",
       "      <td>1.6509</td>\n",
       "      <td>85700.0</td>\n",
       "    </tr>\n",
       "    <tr>\n",
       "      <th>3</th>\n",
       "      <td>-114.57</td>\n",
       "      <td>33.64</td>\n",
       "      <td>14.0</td>\n",
       "      <td>1501.0</td>\n",
       "      <td>337.0</td>\n",
       "      <td>515.0</td>\n",
       "      <td>226.0</td>\n",
       "      <td>3.1917</td>\n",
       "      <td>73400.0</td>\n",
       "    </tr>\n",
       "    <tr>\n",
       "      <th>4</th>\n",
       "      <td>-114.57</td>\n",
       "      <td>33.57</td>\n",
       "      <td>20.0</td>\n",
       "      <td>1454.0</td>\n",
       "      <td>326.0</td>\n",
       "      <td>624.0</td>\n",
       "      <td>262.0</td>\n",
       "      <td>1.9250</td>\n",
       "      <td>65500.0</td>\n",
       "    </tr>\n",
       "  </tbody>\n",
       "</table>\n",
       "</div>"
      ],
      "text/plain": [
       "   longitude  latitude  housing_median_age  total_rooms  total_bedrooms  \\\n",
       "0    -114.31     34.19                15.0       5612.0          1283.0   \n",
       "1    -114.47     34.40                19.0       7650.0          1901.0   \n",
       "2    -114.56     33.69                17.0        720.0           174.0   \n",
       "3    -114.57     33.64                14.0       1501.0           337.0   \n",
       "4    -114.57     33.57                20.0       1454.0           326.0   \n",
       "\n",
       "   population  households  median_income  median_house_value  \n",
       "0      1015.0       472.0         1.4936             66900.0  \n",
       "1      1129.0       463.0         1.8200             80100.0  \n",
       "2       333.0       117.0         1.6509             85700.0  \n",
       "3       515.0       226.0         3.1917             73400.0  \n",
       "4       624.0       262.0         1.9250             65500.0  "
      ]
     },
     "execution_count": 15,
     "metadata": {},
     "output_type": "execute_result"
    }
   ],
   "source": [
    "df = pd.read_csv(\"https://raw.githubusercontent.com/data-bootcamp-v4/data/main/california_housing.csv\")\n",
    "df.head()"
   ]
  },
  {
   "cell_type": "markdown",
   "metadata": {},
   "source": [
    "**We posit that houses close to either a school or a hospital are more expensive.**\n",
    "\n",
    "- School coordinates (-118, 34)\n",
    "- Hospital coordinates (-122, 37)\n",
    "\n",
    "We consider a house (neighborhood) to be close to a school or hospital if the distance is lower than 0.50.\n",
    "\n",
    "Hint:\n",
    "- Write a function to calculate euclidean distance from each house (neighborhood) to the school and to the hospital.\n",
    "- Divide your dataset into houses close and far from either a hospital or school.\n",
    "- Choose the propper test and, with 5% significance, comment your findings.\n",
    " "
   ]
  },
  {
   "cell_type": "code",
   "execution_count": 25,
   "metadata": {},
   "outputs": [
    {
     "name": "stdout",
     "output_type": "stream",
     "text": [
      "is_close\n",
      "False    10171\n",
      "True      6829\n",
      "Name: count, dtype: int64\n",
      "Close to school/hospital: n = 6829 - Mean price = 246951.98213501245\n",
      "Far from school/hospital: n = 10171 - Mean price = 180678.44105790975\n",
      "37.992330214201516 3.0064957768592614e-301\n",
      "4.582619331156695\n",
      "\n"
     ]
    },
    {
     "data": {
      "application/vnd.plotly.v1+json": {
       "config": {
        "plotlyServerURL": "https://plot.ly"
       },
       "data": [
        {
         "hovertemplate": "x=%{x}<br>pdf=%{y}<extra></extra>",
         "legendgroup": "",
         "line": {
          "color": "#636efa",
          "dash": "solid"
         },
         "marker": {
          "symbol": "circle"
         },
         "mode": "lines",
         "name": "",
         "orientation": "v",
         "showlegend": false,
         "type": "scatter",
         "x": {
          "bdata": "AAAAAAAACMDByyl4OQUHwIOXU/ByCgbARGN9aKwPBcAFL6fg5RQEwMb60FgfGgPAiMb60FgfAsBJkiRJkiQBwApeTsHLKQDAmFPwcgpe/r8a60NjfWj8v52Cl1Pwcvq/IBrrQ2N9+L+isT401of2vyVJkiRJkvS/p+DlFLyc8r8qeDkFL6fwv1gfGutDY+2/YE7Byyl46b9kfWisD43lv2isD431oeG/4LZt27Zt27/oFLycgpfTv+DlFLycgse/AIjG+tBYr7/Ah8b60FivP+DlFLycgsc/6BS8nIKX0z/Ytm3btm3bP2isD431oeE/ZH1orA+N5T9cTsHLKXjpP1gfGutDY+0/KHg5BS+n8D+o4OUUvJzyPyRJkiRJkvQ/oLE+NNaH9j8gGutDY334P5yCl1Pwcvo/GOtDY31o/D+YU/ByCl7+PwpeTsHLKQBASJIkSZIkAUCIxvrQWB8CQMb60FgfGgNABC+n4OUUBEBEY31orA8FQIKXU/ByCgZAwMspeDkFB0AAAAAAAAAIQA==",
          "dtype": "f8"
         },
         "xaxis": "x",
         "y": {
          "bdata": "MeCqiqSBcj9j38hLdG56P96dOaM5moI/gcwEPDXOiT+cZydykaORP+OGzOs+w5c/TZeLBaOLnz/u+sQh76GkP8KU/N0tmKo/FsgnwFTjsD9Z4cpCFSK1P65iOOtQDro/7brX38+mvz8Nk73Ix/DCP5vj2XVCVcY/MCgFL3fxyT/Yo2aesbDNP1YsnEqwvNA/qkiROQGX0j9RUPjqQFfUP65lU/337NU/6Mq22D5I1z93YKHdxFrYPzV/Q8LKGNk/segPUPh52T+x6A9Q+HnZPzV/Q8LKGNk/d2Ch3cRa2D/pyrbYPkjXP65lU/337NU/UVD46kBX1D+sSJE5AZfSP1YsnEqwvNA/26NmnrGwzT8sKAUvd/HJP53j2XVCVcY/EZO9yMfwwj/tutffz6a/P7FiOOtQDro/X+HKQhUitT8WyCfAVOOwP8KU/N0tmKo/8/rEIe+hpD9Nl4sFo4ufP+OGzOs+w5c/oGcncpGjkT+BzAQ8Nc6JP+edOaM5moI/cN/IS3Ruej8x4KqKpIFyPw==",
          "dtype": "f8"
         },
         "yaxis": "y"
        },
        {
         "fill": "tozeroy",
         "fillcolor": "red",
         "mode": "none",
         "type": "scatter",
         "x": {
          "bdata": "AAAAAAAACMD2rsfDp9QHwOxdj4dPqQfA4wxXS/d9B8DZux4Pn1IHwM9q5tJGJwfAxRmulu77BsC7yHValtAGwLJ3PR4+pQbAqCYF4uV5BsCe1cyljU4GwJSElGk1IwbAijNcLd33BcCB4iPxhMwFwHeR67QsoQXAbUCzeNR1BcBj73o8fEoFwFqeQgAkHwXAUE0KxMvzBMBG/NGHc8gEwDyrmUsbnQTAMlphD8NxBMAoCSnTakYEwB+48JYSGwTAFWe4WrrvA8ALFoAeYsQDwAHFR+IJmQPA+HMPprFtA8DuItdpWUIDwOTRni0BFwPA2oBm8ajrAsDQLy61UMACwMbe9Xj4lALAvY29PKBpAsCzPIUASD4CwKnrTMTvEgLAn5oUiJfnAcCWSdxLP7wBwIz4ow/nkAHAgqdr045lAcB4VjOXNjoBwG4F+1reDgHAZLTCHobjAMBbY4riLbgAwFESUqbVjADAR8EZan1hAMA9cOEtJTYAwDQfqfHMCgDAVJzhaum+/79A+nDyOGj/vw==",
          "dtype": "f8"
         },
         "y": {
          "bdata": "MeCqiqSBcj/TSql27rNzP4ZjcmGx93Q/J3DO6MFNdj/Hakzr+7Z3P8e7XZhCNHk/VZEsfYDGej9m9u2Np258PxKrbyuxLX4/P2RQEk8CgD9RuelZO/qAP/Cgujsl/4E/Adb9MpgRgz9HxWBeIzKEP5p4yXRZYYU/P2tSt9Cfhj/rVlvgIu6HP9h1jg/tTIk/2ky6ss+8ij9nymBrbj6MP8xt3fBv0o0/QzYF7315jz/ZKZJwIpqQP7R8n/S5gZE/wSK+Ud5zkj9t+dF66XCTP7O9TG02eZQ/m7ngFCGNlT8BGiAtBq2WP+q5ASFD2Zc/golF6DUSmT+UJ7TiPFiaP6DNNrG2q5s/S07GDAINnT+vnTGbfXyePzwovsGH+p8/6w/TOr/DoD+Xbz2F35GhP9bGOf/SZ6I/jyZZYsdFoz9FNMbG6SukPyAdcoZmGqU/CeZSH2kRpj9ExrwUHBGnP3Fs4c+oGag/L0KBfzcrqT/i/Nv27kWqP8oD74v0aas/iG8R9WuXrD9iof4ld86tPw==",
          "dtype": "f8"
         }
        },
        {
         "fill": "tozeroy",
         "fillcolor": "red",
         "mode": "none",
         "type": "scatter",
         "x": {
          "bdata": "Pvpw8jho/z9SnOFq6b7/PzMfqfHMCgBAPHDhLSU2AEBGwRlqfWEAQFASUqbVjABAWmOK4i24AEBktMIehuMAQG4F+1reDgFAd1YzlzY6AUCBp2vTjmUBQIv4ow/nkAFAlUncSz+8AUCemhSIl+cBQKjrTMTvEgJAsjyFAEg+AkC8jb08oGkCQMbe9Xj4lAJA0C8utVDAAkDagGbxqOsCQOPRni0BFwNA7SLXaVlCA0D3cw+msW0DQAHFR+IJmQNAChaAHmLEA0AUZ7hauu8DQB648JYSGwRAKAkp02pGBEAyWmEPw3EEQDyrmUsbnQRARvzRh3PIBEBPTQrEy/MEQFmeQgAkHwVAY+96PHxKBUBsQLN41HUFQHaR67QsoQVAgOIj8YTMBUCKM1wt3fcFQJSElGk1IwZAntXMpY1OBkCoJgXi5XkGQLF3PR4+pQZAu8h1WpbQBkDFGa6W7vsGQM9q5tJGJwdA2LseD59SB0DiDFdL930HQOxdj4dPqQdA9q7Hw6fUB0AAAAAAAAAIQA==",
          "dtype": "f8"
         },
         "y": {
          "bdata": "aaH+JXfOrT+PbxH1a5esP9QD74v0aas/6Pzb9u5Fqj81QoF/NyupP3Rs4c+oGag/Sca8FBwRpz8J5lIfaRGmPyAdcoZmGqU/SDTGxukrpD+WJllix0WjP9vGOf/SZ6I/m289hd+RoT/yD9M6v8OgP0QovsGH+p8/t50xm318nj9STsYMAg2dP6DNNrG2q5s/lCe04jxYmj+CiUXoNRKZP/a5ASFD2Zc/BhogLQatlj+gueAUIY2VP7O9TG02eZQ/cvnReulwkz/FIr5R3nOSP7R8n/S5gZE/2SmScCKakD9DNgXvfXmPP8xt3fBv0o0/Z8pga24+jD/nTLqyz7yKP+V1jg/tTIk/61Zb4CLuhz9Ka1K30J+GP594yXRZYYU/UcVgXiMyhD8B1v0ymBGDP/Cgujsl/4E/UbnpWTv6gD8/ZFASTwKAPyGrbyuxLX4/ZvbtjadufD9VkSx9gMZ6P8e7XZhCNHk/x2pM6/u2dz8ncM7owU12P4ZjcmGx93Q/00qpdu6zcz8x4KqKpIFyPw==",
          "dtype": "f8"
         }
        }
       ],
       "layout": {
        "annotations": [
         {
          "text": "Lower critical value -1.96",
          "x": -1.9629449339260105,
          "xref": "x",
          "y": 0,
          "yanchor": "bottom",
          "yref": "paper"
         },
         {
          "text": "Upper critical value  1.96",
          "x": 1.96294493392601,
          "xref": "x",
          "y": 0,
          "yanchor": "bottom",
          "yref": "paper"
         },
         {
          "text": "Statistic  4.58",
          "x": 4.582619331156695,
          "xref": "x",
          "y": 0,
          "yanchor": "bottom",
          "yref": "paper"
         }
        ],
        "legend": {
         "tracegroupgap": 0
        },
        "shapes": [
         {
          "line": {
           "color": "red"
          },
          "type": "line",
          "x0": -1.9629449339260105,
          "x1": -1.9629449339260105,
          "xref": "x",
          "y0": 0,
          "y1": 1,
          "yref": "y domain"
         },
         {
          "line": {
           "color": "red"
          },
          "type": "line",
          "x0": 1.96294493392601,
          "x1": 1.96294493392601,
          "xref": "x",
          "y0": 0,
          "y1": 1,
          "yref": "y domain"
         },
         {
          "type": "line",
          "x0": 4.582619331156695,
          "x1": 4.582619331156695,
          "xref": "x",
          "y0": 0,
          "y1": 1,
          "yref": "y domain"
         }
        ],
        "showlegend": false,
        "template": {
         "data": {
          "bar": [
           {
            "error_x": {
             "color": "#2a3f5f"
            },
            "error_y": {
             "color": "#2a3f5f"
            },
            "marker": {
             "line": {
              "color": "#E5ECF6",
              "width": 0.5
             },
             "pattern": {
              "fillmode": "overlay",
              "size": 10,
              "solidity": 0.2
             }
            },
            "type": "bar"
           }
          ],
          "barpolar": [
           {
            "marker": {
             "line": {
              "color": "#E5ECF6",
              "width": 0.5
             },
             "pattern": {
              "fillmode": "overlay",
              "size": 10,
              "solidity": 0.2
             }
            },
            "type": "barpolar"
           }
          ],
          "carpet": [
           {
            "aaxis": {
             "endlinecolor": "#2a3f5f",
             "gridcolor": "white",
             "linecolor": "white",
             "minorgridcolor": "white",
             "startlinecolor": "#2a3f5f"
            },
            "baxis": {
             "endlinecolor": "#2a3f5f",
             "gridcolor": "white",
             "linecolor": "white",
             "minorgridcolor": "white",
             "startlinecolor": "#2a3f5f"
            },
            "type": "carpet"
           }
          ],
          "choropleth": [
           {
            "colorbar": {
             "outlinewidth": 0,
             "ticks": ""
            },
            "type": "choropleth"
           }
          ],
          "contour": [
           {
            "colorbar": {
             "outlinewidth": 0,
             "ticks": ""
            },
            "colorscale": [
             [
              0,
              "#0d0887"
             ],
             [
              0.1111111111111111,
              "#46039f"
             ],
             [
              0.2222222222222222,
              "#7201a8"
             ],
             [
              0.3333333333333333,
              "#9c179e"
             ],
             [
              0.4444444444444444,
              "#bd3786"
             ],
             [
              0.5555555555555556,
              "#d8576b"
             ],
             [
              0.6666666666666666,
              "#ed7953"
             ],
             [
              0.7777777777777778,
              "#fb9f3a"
             ],
             [
              0.8888888888888888,
              "#fdca26"
             ],
             [
              1,
              "#f0f921"
             ]
            ],
            "type": "contour"
           }
          ],
          "contourcarpet": [
           {
            "colorbar": {
             "outlinewidth": 0,
             "ticks": ""
            },
            "type": "contourcarpet"
           }
          ],
          "heatmap": [
           {
            "colorbar": {
             "outlinewidth": 0,
             "ticks": ""
            },
            "colorscale": [
             [
              0,
              "#0d0887"
             ],
             [
              0.1111111111111111,
              "#46039f"
             ],
             [
              0.2222222222222222,
              "#7201a8"
             ],
             [
              0.3333333333333333,
              "#9c179e"
             ],
             [
              0.4444444444444444,
              "#bd3786"
             ],
             [
              0.5555555555555556,
              "#d8576b"
             ],
             [
              0.6666666666666666,
              "#ed7953"
             ],
             [
              0.7777777777777778,
              "#fb9f3a"
             ],
             [
              0.8888888888888888,
              "#fdca26"
             ],
             [
              1,
              "#f0f921"
             ]
            ],
            "type": "heatmap"
           }
          ],
          "histogram": [
           {
            "marker": {
             "pattern": {
              "fillmode": "overlay",
              "size": 10,
              "solidity": 0.2
             }
            },
            "type": "histogram"
           }
          ],
          "histogram2d": [
           {
            "colorbar": {
             "outlinewidth": 0,
             "ticks": ""
            },
            "colorscale": [
             [
              0,
              "#0d0887"
             ],
             [
              0.1111111111111111,
              "#46039f"
             ],
             [
              0.2222222222222222,
              "#7201a8"
             ],
             [
              0.3333333333333333,
              "#9c179e"
             ],
             [
              0.4444444444444444,
              "#bd3786"
             ],
             [
              0.5555555555555556,
              "#d8576b"
             ],
             [
              0.6666666666666666,
              "#ed7953"
             ],
             [
              0.7777777777777778,
              "#fb9f3a"
             ],
             [
              0.8888888888888888,
              "#fdca26"
             ],
             [
              1,
              "#f0f921"
             ]
            ],
            "type": "histogram2d"
           }
          ],
          "histogram2dcontour": [
           {
            "colorbar": {
             "outlinewidth": 0,
             "ticks": ""
            },
            "colorscale": [
             [
              0,
              "#0d0887"
             ],
             [
              0.1111111111111111,
              "#46039f"
             ],
             [
              0.2222222222222222,
              "#7201a8"
             ],
             [
              0.3333333333333333,
              "#9c179e"
             ],
             [
              0.4444444444444444,
              "#bd3786"
             ],
             [
              0.5555555555555556,
              "#d8576b"
             ],
             [
              0.6666666666666666,
              "#ed7953"
             ],
             [
              0.7777777777777778,
              "#fb9f3a"
             ],
             [
              0.8888888888888888,
              "#fdca26"
             ],
             [
              1,
              "#f0f921"
             ]
            ],
            "type": "histogram2dcontour"
           }
          ],
          "mesh3d": [
           {
            "colorbar": {
             "outlinewidth": 0,
             "ticks": ""
            },
            "type": "mesh3d"
           }
          ],
          "parcoords": [
           {
            "line": {
             "colorbar": {
              "outlinewidth": 0,
              "ticks": ""
             }
            },
            "type": "parcoords"
           }
          ],
          "pie": [
           {
            "automargin": true,
            "type": "pie"
           }
          ],
          "scatter": [
           {
            "fillpattern": {
             "fillmode": "overlay",
             "size": 10,
             "solidity": 0.2
            },
            "type": "scatter"
           }
          ],
          "scatter3d": [
           {
            "line": {
             "colorbar": {
              "outlinewidth": 0,
              "ticks": ""
             }
            },
            "marker": {
             "colorbar": {
              "outlinewidth": 0,
              "ticks": ""
             }
            },
            "type": "scatter3d"
           }
          ],
          "scattercarpet": [
           {
            "marker": {
             "colorbar": {
              "outlinewidth": 0,
              "ticks": ""
             }
            },
            "type": "scattercarpet"
           }
          ],
          "scattergeo": [
           {
            "marker": {
             "colorbar": {
              "outlinewidth": 0,
              "ticks": ""
             }
            },
            "type": "scattergeo"
           }
          ],
          "scattergl": [
           {
            "marker": {
             "colorbar": {
              "outlinewidth": 0,
              "ticks": ""
             }
            },
            "type": "scattergl"
           }
          ],
          "scattermap": [
           {
            "marker": {
             "colorbar": {
              "outlinewidth": 0,
              "ticks": ""
             }
            },
            "type": "scattermap"
           }
          ],
          "scattermapbox": [
           {
            "marker": {
             "colorbar": {
              "outlinewidth": 0,
              "ticks": ""
             }
            },
            "type": "scattermapbox"
           }
          ],
          "scatterpolar": [
           {
            "marker": {
             "colorbar": {
              "outlinewidth": 0,
              "ticks": ""
             }
            },
            "type": "scatterpolar"
           }
          ],
          "scatterpolargl": [
           {
            "marker": {
             "colorbar": {
              "outlinewidth": 0,
              "ticks": ""
             }
            },
            "type": "scatterpolargl"
           }
          ],
          "scatterternary": [
           {
            "marker": {
             "colorbar": {
              "outlinewidth": 0,
              "ticks": ""
             }
            },
            "type": "scatterternary"
           }
          ],
          "surface": [
           {
            "colorbar": {
             "outlinewidth": 0,
             "ticks": ""
            },
            "colorscale": [
             [
              0,
              "#0d0887"
             ],
             [
              0.1111111111111111,
              "#46039f"
             ],
             [
              0.2222222222222222,
              "#7201a8"
             ],
             [
              0.3333333333333333,
              "#9c179e"
             ],
             [
              0.4444444444444444,
              "#bd3786"
             ],
             [
              0.5555555555555556,
              "#d8576b"
             ],
             [
              0.6666666666666666,
              "#ed7953"
             ],
             [
              0.7777777777777778,
              "#fb9f3a"
             ],
             [
              0.8888888888888888,
              "#fdca26"
             ],
             [
              1,
              "#f0f921"
             ]
            ],
            "type": "surface"
           }
          ],
          "table": [
           {
            "cells": {
             "fill": {
              "color": "#EBF0F8"
             },
             "line": {
              "color": "white"
             }
            },
            "header": {
             "fill": {
              "color": "#C8D4E3"
             },
             "line": {
              "color": "white"
             }
            },
            "type": "table"
           }
          ]
         },
         "layout": {
          "annotationdefaults": {
           "arrowcolor": "#2a3f5f",
           "arrowhead": 0,
           "arrowwidth": 1
          },
          "autotypenumbers": "strict",
          "coloraxis": {
           "colorbar": {
            "outlinewidth": 0,
            "ticks": ""
           }
          },
          "colorscale": {
           "diverging": [
            [
             0,
             "#8e0152"
            ],
            [
             0.1,
             "#c51b7d"
            ],
            [
             0.2,
             "#de77ae"
            ],
            [
             0.3,
             "#f1b6da"
            ],
            [
             0.4,
             "#fde0ef"
            ],
            [
             0.5,
             "#f7f7f7"
            ],
            [
             0.6,
             "#e6f5d0"
            ],
            [
             0.7,
             "#b8e186"
            ],
            [
             0.8,
             "#7fbc41"
            ],
            [
             0.9,
             "#4d9221"
            ],
            [
             1,
             "#276419"
            ]
           ],
           "sequential": [
            [
             0,
             "#0d0887"
            ],
            [
             0.1111111111111111,
             "#46039f"
            ],
            [
             0.2222222222222222,
             "#7201a8"
            ],
            [
             0.3333333333333333,
             "#9c179e"
            ],
            [
             0.4444444444444444,
             "#bd3786"
            ],
            [
             0.5555555555555556,
             "#d8576b"
            ],
            [
             0.6666666666666666,
             "#ed7953"
            ],
            [
             0.7777777777777778,
             "#fb9f3a"
            ],
            [
             0.8888888888888888,
             "#fdca26"
            ],
            [
             1,
             "#f0f921"
            ]
           ],
           "sequentialminus": [
            [
             0,
             "#0d0887"
            ],
            [
             0.1111111111111111,
             "#46039f"
            ],
            [
             0.2222222222222222,
             "#7201a8"
            ],
            [
             0.3333333333333333,
             "#9c179e"
            ],
            [
             0.4444444444444444,
             "#bd3786"
            ],
            [
             0.5555555555555556,
             "#d8576b"
            ],
            [
             0.6666666666666666,
             "#ed7953"
            ],
            [
             0.7777777777777778,
             "#fb9f3a"
            ],
            [
             0.8888888888888888,
             "#fdca26"
            ],
            [
             1,
             "#f0f921"
            ]
           ]
          },
          "colorway": [
           "#636efa",
           "#EF553B",
           "#00cc96",
           "#ab63fa",
           "#FFA15A",
           "#19d3f3",
           "#FF6692",
           "#B6E880",
           "#FF97FF",
           "#FECB52"
          ],
          "font": {
           "color": "#2a3f5f"
          },
          "geo": {
           "bgcolor": "white",
           "lakecolor": "white",
           "landcolor": "#E5ECF6",
           "showlakes": true,
           "showland": true,
           "subunitcolor": "white"
          },
          "hoverlabel": {
           "align": "left"
          },
          "hovermode": "closest",
          "mapbox": {
           "style": "light"
          },
          "paper_bgcolor": "white",
          "plot_bgcolor": "#E5ECF6",
          "polar": {
           "angularaxis": {
            "gridcolor": "white",
            "linecolor": "white",
            "ticks": ""
           },
           "bgcolor": "#E5ECF6",
           "radialaxis": {
            "gridcolor": "white",
            "linecolor": "white",
            "ticks": ""
           }
          },
          "scene": {
           "xaxis": {
            "backgroundcolor": "#E5ECF6",
            "gridcolor": "white",
            "gridwidth": 2,
            "linecolor": "white",
            "showbackground": true,
            "ticks": "",
            "zerolinecolor": "white"
           },
           "yaxis": {
            "backgroundcolor": "#E5ECF6",
            "gridcolor": "white",
            "gridwidth": 2,
            "linecolor": "white",
            "showbackground": true,
            "ticks": "",
            "zerolinecolor": "white"
           },
           "zaxis": {
            "backgroundcolor": "#E5ECF6",
            "gridcolor": "white",
            "gridwidth": 2,
            "linecolor": "white",
            "showbackground": true,
            "ticks": "",
            "zerolinecolor": "white"
           }
          },
          "shapedefaults": {
           "line": {
            "color": "#2a3f5f"
           }
          },
          "ternary": {
           "aaxis": {
            "gridcolor": "white",
            "linecolor": "white",
            "ticks": ""
           },
           "baxis": {
            "gridcolor": "white",
            "linecolor": "white",
            "ticks": ""
           },
           "bgcolor": "#E5ECF6",
           "caxis": {
            "gridcolor": "white",
            "linecolor": "white",
            "ticks": ""
           }
          },
          "title": {
           "x": 0.05
          },
          "xaxis": {
           "automargin": true,
           "gridcolor": "white",
           "linecolor": "white",
           "ticks": "",
           "title": {
            "standoff": 15
           },
           "zerolinecolor": "white",
           "zerolinewidth": 2
          },
          "yaxis": {
           "automargin": true,
           "gridcolor": "white",
           "linecolor": "white",
           "ticks": "",
           "title": {
            "standoff": 15
           },
           "zerolinecolor": "white",
           "zerolinewidth": 2
          }
         }
        },
        "title": {
         "text": "t-student Probability Density Function",
         "x": 0.5
        },
        "xaxis": {
         "anchor": "y",
         "domain": [
          0,
          1
         ],
         "title": {
          "text": "x"
         }
        },
        "yaxis": {
         "anchor": "x",
         "domain": [
          0,
          1
         ],
         "title": {
          "text": "pdf"
         }
        }
       }
      }
     },
     "metadata": {},
     "output_type": "display_data"
    },
    {
     "name": "stdout",
     "output_type": "stream",
     "text": [
      "\n",
      "Result: Reject H₀. Houses close to school or hospital are significantly more expensive.\n"
     ]
    }
   ],
   "source": [
    "# Null Hypothesis (H₀): Houses close to a school or hospital have the same mean price as houses farther away.\n",
    "# Alternative Hypothesis (H₁): Houses close to a school or hospital have a higher mean price than houses farther away.\n",
    "\n",
    "# 1. Euclidean Distance Function\n",
    "\n",
    "# We need to calculate, for each house, the distance to the school and hospital:\n",
    "# - School: (-118, 34)\n",
    "# - Hospital: (-122, 37)\n",
    "\n",
    "def euclidean_distance(lon1, lat1, lon2, lat2):\n",
    "    return np.sqrt((lon1 - lon2)**2 + (lat1 - lat2)**2)\n",
    "\n",
    "# 2. Calculate Distances and Define 'Close' Houses\n",
    "\n",
    "# Add two columns: distance to school and to hospital.  \n",
    "# A house is \"close\" if **either** distance is less than 0.5.\n",
    "\n",
    "school_coords = (-118, 34)\n",
    "hospital_coords = (-122, 37)\n",
    "\n",
    "df[\"dist_school\"] = euclidean_distance(df[\"longitude\"], df[\"latitude\"], school_coords[0], school_coords[1])\n",
    "df[\"dist_hospital\"] = euclidean_distance(df[\"longitude\"], df[\"latitude\"], hospital_coords[0], hospital_coords[1])\n",
    "\n",
    "# We consider a house (neighborhood) to be close to a school or hospital if the distance is lower than 0.50.\n",
    "df[\"is_close\"] = (df[\"dist_school\"] < 0.5) | (df[\"dist_hospital\"] < 0.5)\n",
    "\n",
    "# Let's check how many are close/far\n",
    "print(df[\"is_close\"].value_counts())\n",
    "\n",
    "# 3. Exploratory Analysis\n",
    "\n",
    "close_prices = df[df[\"is_close\"] == True][\"median_house_value\"]\n",
    "far_prices = df[df[\"is_close\"] == False][\"median_house_value\"]\n",
    "\n",
    "print(f\"Close to school/hospital: n = {len(close_prices)} - Mean price = {close_prices.mean()}\")\n",
    "print(f\"Far from school/hospital: n = {len(far_prices)} - Mean price = {far_prices.mean()}\")\n",
    "\n",
    "close_prices_std = close_prices.std(ddof=1)\n",
    "far_prices_std = far_prices.std(ddof=1)\n",
    "\n",
    "t_stat, p_val = st.ttest_ind(close_prices, far_prices, equal_var=False)\n",
    "print(t_stat,p_val)\n",
    "\n",
    "statistic = (close_prices.mean() - far_prices.mean()) / np.sqrt( (close_prices_std**2/n1) + (far_prices_std**2/n2))\n",
    "print(statistic)\n",
    "print()\n",
    "show_statistical_test(statistic, alpha, n1+n2-2, distribution=\"t-student\", alternative=\"two-sided\")\n",
    "print()\n",
    "st.ttest_ind(close_prices, close_prices, equal_var=False, alternative=\"two-sided\")\n",
    "\n",
    "alpha = 0.05\n",
    "if p_val < alpha:\n",
    "    print(\"Result: Reject H₀. Houses close to school or hospital are significantly more expensive.\")\n",
    "else:\n",
    "    print(\"Result: Fail to reject H₀. No significant price difference detected.\")\n"
   ]
  },
  {
   "cell_type": "markdown",
   "metadata": {},
   "source": [
    "Comment: Reject H₀. Houses close to school or hospital are significantly more expensive."
   ]
  }
 ],
 "metadata": {
  "kernelspec": {
   "display_name": "project-template",
   "language": "python",
   "name": "python3"
  },
  "language_info": {
   "codemirror_mode": {
    "name": "ipython",
    "version": 3
   },
   "file_extension": ".py",
   "mimetype": "text/x-python",
   "name": "python",
   "nbconvert_exporter": "python",
   "pygments_lexer": "ipython3",
   "version": "3.13.5"
  }
 },
 "nbformat": 4,
 "nbformat_minor": 4
}
